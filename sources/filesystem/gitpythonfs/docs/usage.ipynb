{
 "cells": [
  {
   "cell_type": "markdown",
   "metadata": {},
   "source": [
    "# Usage examples for gitpythonfs - an fsspec implementation.\n",
    "\n",
    "Includes comparison of behaviour with other fsspec implementations, `git` and `file`."
   ]
  },
  {
   "cell_type": "markdown",
   "metadata": {},
   "source": [
    "To get persistent repo_fixture folder as used in these examples:\n",
    "- debug run a test that uses `tests.test_core.repo_fixture`, pausing before `shutil.rmtree(d)` deletes the temp dir.\n",
    "- get the temp directory location `d` \n",
    "- in your os, rename the directoy.  eg  `mv /tmp/tmptdfvh5pe /tmp/repo_fixture`\n",
    "- finish or cancel debug run\n",
    "\n",
    "ToDo: add a persist option to `tests.test_core.repo_fixture`  "
   ]
  },
  {
   "cell_type": "code",
   "execution_count": null,
   "metadata": {},
   "outputs": [],
   "source": [
    "import fsspec"
   ]
  },
  {
   "cell_type": "markdown",
   "metadata": {},
   "source": [
    "# gitpythonfs"
   ]
  },
  {
   "cell_type": "code",
   "execution_count": null,
   "metadata": {},
   "outputs": [],
   "source": [
    "import gitpythonfs"
   ]
  },
  {
   "cell_type": "code",
   "execution_count": null,
   "metadata": {},
   "outputs": [],
   "source": [
    "dlt_repo_path = \"~/dlt\"\n",
    "wine_repo_path = \"~/wine\"\n",
    "test_fixture_repo_path = \"/tmp/repo_fixture\""
   ]
  },
  {
   "cell_type": "code",
   "execution_count": null,
   "metadata": {},
   "outputs": [],
   "source": [
    "fs_gitpythonfs = fsspec.filesystem(\"gitpythonfs\", repo_path=wine_repo_path)"
   ]
  },
  {
   "cell_type": "code",
   "execution_count": null,
   "metadata": {},
   "outputs": [],
   "source": [
    "# fs_at_current_directory = fsspec.filesystem(\"gitpythonfs\")"
   ]
  },
  {
   "cell_type": "code",
   "execution_count": null,
   "metadata": {},
   "outputs": [],
   "source": [
    "fs_gitpythonfs.repo"
   ]
  },
  {
   "cell_type": "code",
   "execution_count": null,
   "metadata": {},
   "outputs": [],
   "source": [
    "fs_gitpythonfs.repo.head.ref.name"
   ]
  },
  {
   "cell_type": "markdown",
   "metadata": {},
   "source": [
    "Now let's look at some contents of our repo:"
   ]
  },
  {
   "cell_type": "code",
   "execution_count": null,
   "metadata": {},
   "outputs": [],
   "source": [
    "fs_gitpythonfs.ls(\"\")"
   ]
  },
  {
   "cell_type": "markdown",
   "metadata": {},
   "source": [
    "Note that we got the folder `inner`, because our implementation uses head, which is currently at branch `abranch`.  Different to the `git` fsspec implementation, which defaults to `master` branch."
   ]
  },
  {
   "cell_type": "code",
   "execution_count": null,
   "metadata": {},
   "outputs": [],
   "source": [
    "fs_gitpythonfs.ls(\"\", detail=True)"
   ]
  },
  {
   "cell_type": "markdown",
   "metadata": {},
   "source": [
    "\n",
    "walk() - and therefore find() and glob() -  are very slow.  That's because walk() invokes list(detail=True), which then expensively gets committed_date by default. Walk uses detail=True because it needs to discern file vs directory.  You can pass include_committed_date=False to either walk() or find() to speed them up."
   ]
  },
  {
   "cell_type": "code",
   "execution_count": null,
   "metadata": {},
   "outputs": [],
   "source": [
    "for thing in fs_gitpythonfs.walk(\"\"): # , include_committed_date=False):\n",
    "    print(thing)"
   ]
  },
  {
   "cell_type": "code",
   "execution_count": null,
   "metadata": {},
   "outputs": [],
   "source": [
    "fs_gitpythonfs.find(\"\") # , include_committed_date=True)"
   ]
  },
  {
   "cell_type": "code",
   "execution_count": null,
   "metadata": {},
   "outputs": [],
   "source": [
    "for thing in fs_gitpythonfs.glob(\"docs/**.md\", ref=\"HEAD\"): # , include_committed_date=False):\n",
    "    print(thing)"
   ]
  },
  {
   "cell_type": "markdown",
   "metadata": {},
   "source": [
    "Git References (refs):\n",
    "\n",
    "You can specify a commit sha, tag or branch.  Default is HEAD."
   ]
  },
  {
   "cell_type": "code",
   "execution_count": null,
   "metadata": {},
   "outputs": [],
   "source": [
    "fs_gitpythonfs.find(\n",
    "    \"\",\n",
    "    ref=\"thetag\" # comment out to use HEAD\n",
    "    )"
   ]
  },
  {
   "cell_type": "markdown",
   "metadata": {},
   "source": [
    "Multiple files:"
   ]
  },
  {
   "cell_type": "code",
   "execution_count": null,
   "metadata": {},
   "outputs": [],
   "source": [
    "files = fsspec.open_files(\"gitpythonfs:///tmp/repo_fixture:abranch@**/file*\")\n",
    "len(files)"
   ]
  },
  {
   "cell_type": "markdown",
   "metadata": {},
   "source": [
    "Some git contents are cached in the filesystem instance:"
   ]
  },
  {
   "cell_type": "code",
   "execution_count": null,
   "metadata": {},
   "outputs": [],
   "source": [
    "fs_gitpythonfs._get_tree.cache_info()"
   ]
  },
  {
   "cell_type": "code",
   "execution_count": null,
   "metadata": {},
   "outputs": [],
   "source": [
    "fs_gitpythonfs.clear_git_caches()"
   ]
  },
  {
   "cell_type": "markdown",
   "metadata": {},
   "source": [
    "Note that fsspec itself caches entire filesystem instances, which can be overridden with `skip_instance_cache=True`"
   ]
  },
  {
   "cell_type": "code",
   "execution_count": null,
   "metadata": {},
   "outputs": [],
   "source": [
    "path_2 = \"/tmp/repo_fixture\"\n",
    "fs_gitpythonfs_2 = fsspec.filesystem(\n",
    "    \"gitpythonfs\",\n",
    "    repo_path=path_2,\n",
    "    # ref=\"thetag\",\n",
    "    # skip_instance_cache=True\n",
    "    )\n",
    "\n",
    "fs_gitpythonfs_2._get_tree.cache_info()"
   ]
  },
  {
   "cell_type": "markdown",
   "metadata": {},
   "source": [
    "git_cmd extensions"
   ]
  },
  {
   "cell_type": "code",
   "execution_count": null,
   "metadata": {},
   "outputs": [],
   "source": [
    "from gitpythonfs import git_cmd\n",
    "import git\n",
    "\n",
    "dlt_repo_path = \"~/dlt\"\n",
    "wine_repo_path = \"~/wine\"\n",
    "test_fixture_repo_path = \"/tmp/repo_fixture\"\n",
    "\n",
    "repo = git.Repo(dlt_repo_path)\n",
    "\n",
    "revs_dict = git_cmd.get_revisions_all(repo, \"HEAD\")\n",
    "\n",
    "# repo: dlt\n",
    "# time: 0.2s\n",
    "# files: 1771\n",
    "\n",
    "# repo: wine\n",
    "# time: 48.1s\n",
    "# files: 18,669  (count(revs_dict)\n",
    "# revs_dict size: 805991 bytes\n"
   ]
  },
  {
   "cell_type": "code",
   "execution_count": null,
   "metadata": {},
   "outputs": [],
   "source": [
    "from sys import getsizeof\n",
    "getsizeof(f\"{revs_dict}\")\n",
    "# revs_dict\n",
    "len(revs_dict)"
   ]
  },
  {
   "cell_type": "markdown",
   "metadata": {},
   "source": [
    "Using GitPython directly"
   ]
  },
  {
   "cell_type": "code",
   "execution_count": null,
   "metadata": {},
   "outputs": [],
   "source": [
    "import git\n",
    "repo = git.Repo(\"/tmp/repo_fixture\")\n"
   ]
  },
  {
   "cell_type": "code",
   "execution_count": null,
   "metadata": {},
   "outputs": [],
   "source": [
    "repo.tree"
   ]
  },
  {
   "cell_type": "code",
   "execution_count": null,
   "metadata": {},
   "outputs": [],
   "source": [
    "repo.commit(\"abranch\").hexsha"
   ]
  },
  {
   "cell_type": "markdown",
   "metadata": {},
   "source": [
    "Direct git cmd usage via GitPython\n",
    "See https://gitpython.readthedocs.io/en/stable/tutorial.html#using-git-directly"
   ]
  },
  {
   "cell_type": "code",
   "execution_count": null,
   "metadata": {},
   "outputs": [],
   "source": [
    "git_exec = repo.git\n",
    "git_exec.log()"
   ]
  },
  {
   "cell_type": "code",
   "execution_count": null,
   "metadata": {},
   "outputs": [],
   "source": [
    "git_exec.whatchanged()"
   ]
  },
  {
   "cell_type": "markdown",
   "metadata": {},
   "source": [
    "Git formatting\n",
    "https://git-scm.com/docs/pretty-formats"
   ]
  },
  {
   "cell_type": "code",
   "execution_count": null,
   "metadata": {},
   "outputs": [],
   "source": [
    "git_exec.whatchanged(pretty=\"%at%n%H\")"
   ]
  },
  {
   "cell_type": "markdown",
   "metadata": {},
   "source": [
    "Getting reg/log based on reference"
   ]
  },
  {
   "cell_type": "code",
   "execution_count": null,
   "metadata": {},
   "outputs": [],
   "source": [
    "import git\n",
    "\n",
    "def get_revisions_at_path():\n",
    "\n",
    "    repo = git.Repo(\"/tmp/repo_fixture\")\n",
    "    git_exec = repo.git\n",
    "\n",
    "    # hexsha = repo_4d5t6.commit(\"abranch\").hexsha\n",
    "    # ref = \"b618cd9aad9074b981178ca2f8c41b1f3d95c52f\"\n",
    "    ref = \"HEAD\"\n",
    "\n",
    "    # cases: root, directory, file\n",
    "    #  if directory add \"/*\"\n",
    "    #  assume/enforce path doesn't start with \"/\" as that causes error in git\n",
    "    path = \"\"\n",
    "    # git uses fnmatch(3) style matching\n",
    "    path_spec = \":(top)\" + path + \"*\"\n",
    "\n",
    "    out = git_exec.log(\n",
    "        ref,\n",
    "        path_spec,\n",
    "        raw=True\n",
    "        , no_merges=True\n",
    "        , pretty=\"%at\")\n",
    "    return out\n",
    "\n",
    "get_revisions_at_path()"
   ]
  },
  {
   "cell_type": "code",
   "execution_count": null,
   "metadata": {},
   "outputs": [],
   "source": [
    "import git"
   ]
  },
  {
   "cell_type": "markdown",
   "metadata": {},
   "source": [
    "# git\n",
    "\n",
    "existing implementation called [git](https://github.com/fsspec/filesystem_spec/blob/master/fsspec/implementations/git.py)"
   ]
  },
  {
   "cell_type": "code",
   "execution_count": null,
   "metadata": {},
   "outputs": [],
   "source": [
    "fs_git = fsspec.filesystem(\"git\", path=\"/tmp/repo_fixture\")\n",
    "# \"git:///tmp/test_repo:head@inner\"\n"
   ]
  },
  {
   "cell_type": "code",
   "execution_count": null,
   "metadata": {},
   "outputs": [],
   "source": [
    "fs_git.ls(\"\")"
   ]
  },
  {
   "cell_type": "markdown",
   "metadata": {},
   "source": [
    "More complex url does not work for instantiation. It should only be the path to the repo."
   ]
  },
  {
   "cell_type": "code",
   "execution_count": null,
   "metadata": {},
   "outputs": [],
   "source": [
    "fs_git_at_branch = fsspec.filesystem(\"git:///tmp/repo_fixture:abranch@inner/file3\")\n"
   ]
  },
  {
   "cell_type": "markdown",
   "metadata": {},
   "source": [
    "But it does work for \"direct\" methods like `open()`:"
   ]
  },
  {
   "cell_type": "code",
   "execution_count": null,
   "metadata": {},
   "outputs": [],
   "source": [
    "with fsspec.open(\"git:///tmp/repo_fixture:file1\") as f:\n",
    "    bytes = f.read()\n",
    "    assert bytes == b\"data00\"\n",
    "\n",
    "bytes"
   ]
  },
  {
   "cell_type": "markdown",
   "metadata": {},
   "source": [
    "which also support git refs:"
   ]
  },
  {
   "cell_type": "code",
   "execution_count": null,
   "metadata": {},
   "outputs": [],
   "source": [
    "with fsspec.open(\"git:///tmp/repo_fixture:master@file1\") as f:\n",
    "    bytes = f.read()\n",
    "    assert bytes == b\"data00\"\n",
    "\n",
    "bytes"
   ]
  },
  {
   "cell_type": "code",
   "execution_count": null,
   "metadata": {},
   "outputs": [],
   "source": [
    "with fsspec.open(\"git:///tmp/repo_fixture:thetag@file1\") as f:\n",
    "    bytes = f.read()\n",
    "    assert bytes == b\"data00\"\n",
    "\n",
    "bytes"
   ]
  },
  {
   "cell_type": "code",
   "execution_count": null,
   "metadata": {},
   "outputs": [],
   "source": [
    "with fsspec.open(\"git:///tmp/repo_fixture:abranch@inner/file3\") as f:\n",
    "    bytes = f.read()\n",
    "    assert bytes == b\"data3\"\n",
    "\n",
    "bytes"
   ]
  },
  {
   "cell_type": "markdown",
   "metadata": {},
   "source": [
    "With the first commit. \n",
    "\n",
    "Note: Will be different sha every time repo_fixture is recreated."
   ]
  },
  {
   "cell_type": "code",
   "execution_count": null,
   "metadata": {},
   "outputs": [],
   "source": [
    "with fsspec.open(\"git:///tmp/repo_fixture:9bfaaaf97aab0493e0d369cae65580d3c6d95060@file1\") as f:\n",
    "    bytes = f.read()\n",
    "    assert bytes == b\"data0\"\n",
    "\n",
    "bytes"
   ]
  },
  {
   "cell_type": "code",
   "execution_count": null,
   "metadata": {},
   "outputs": [],
   "source": [
    "with fsspec.open(\"git:///tmp/repo_fixture:abranch@inner/file3\") as f:\n",
    "    bytes = f.read()\n",
    "    assert bytes == b\"data3\"\n",
    "\n",
    "bytes"
   ]
  },
  {
   "cell_type": "markdown",
   "metadata": {},
   "source": [
    "Opening multiple files:"
   ]
  },
  {
   "cell_type": "code",
   "execution_count": null,
   "metadata": {},
   "outputs": [],
   "source": [
    "files = fsspec.open_files(\"git:///tmp/repo_fixture:abranch@**/file*\")\n",
    "files"
   ]
  },
  {
   "cell_type": "markdown",
   "metadata": {},
   "source": [
    "# file (local)\n",
    "\n",
    "Note these will return the .git folder and contents, which file:// protocol just sees as regular folders and files."
   ]
  },
  {
   "cell_type": "code",
   "execution_count": null,
   "metadata": {},
   "outputs": [],
   "source": [
    "fs_file = fsspec.filesystem(\"file\")\n",
    "fs_file.ls(\"/tmp/repo_fixture\")"
   ]
  },
  {
   "cell_type": "markdown",
   "metadata": {},
   "source": [
    "find() gives list of files. It recruses subfolders"
   ]
  },
  {
   "cell_type": "code",
   "execution_count": null,
   "metadata": {},
   "outputs": [],
   "source": [
    "fs_file.find(\"/tmp/repo_fixture\")"
   ]
  },
  {
   "cell_type": "markdown",
   "metadata": {},
   "source": [
    "find() uses walk()\n",
    "\n",
    "walk() gives folders, each with:\n",
    "- list of subfolders\n",
    "- list of files\n",
    "It recurses subfolders"
   ]
  },
  {
   "cell_type": "code",
   "execution_count": null,
   "metadata": {},
   "outputs": [],
   "source": [
    "for thing in fs_file.walk(\"/tmp/repo_fixture\"):\n",
    "    print(thing)"
   ]
  },
  {
   "cell_type": "markdown",
   "metadata": {},
   "source": [
    "and walk uses ls()\n",
    "\n",
    "ls() lists files and directories at the specified level. It does not recurse."
   ]
  },
  {
   "cell_type": "code",
   "execution_count": null,
   "metadata": {},
   "outputs": [],
   "source": [
    "fs_file.ls(\"/tmp/repo_fixture\")"
   ]
  },
  {
   "cell_type": "markdown",
   "metadata": {},
   "source": [
    "ls() can also give object details"
   ]
  },
  {
   "cell_type": "code",
   "execution_count": null,
   "metadata": {},
   "outputs": [],
   "source": [
    "fs_file.ls(\"/tmp/repo_fixture\", detail=True)"
   ]
  }
 ],
 "metadata": {
  "kernelspec": {
   "display_name": "dlt-verified-sources-U7wDHhBf-py3.10",
   "language": "python",
   "name": "python3"
  },
  "language_info": {
   "codemirror_mode": {
    "name": "ipython",
    "version": 3
   },
   "file_extension": ".py",
   "mimetype": "text/x-python",
   "name": "python",
   "nbconvert_exporter": "python",
   "pygments_lexer": "ipython3",
   "version": "3.10.13"
  }
 },
 "nbformat": 4,
 "nbformat_minor": 2
}
