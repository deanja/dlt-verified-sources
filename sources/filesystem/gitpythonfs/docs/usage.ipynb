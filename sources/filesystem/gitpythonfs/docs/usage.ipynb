{
 "cells": [
  {
   "cell_type": "markdown",
   "metadata": {},
   "source": [
    "# Usage examples for gitpythonfs - an fsspec implementation.\n",
    "\n",
    "Includes comparison of behaviour with other fsspec implementations, `git` and `file`."
   ]
  },
  {
   "cell_type": "markdown",
   "metadata": {},
   "source": [
    "To get persistent repo_fixture folder as used in these examples:\n",
    "- debug run a test that uses `tests.test_core.repo_fixture`, pausing before `shutil.rmtree(d)` deletes the temp dir.\n",
    "- get the temp directory location `d` \n",
    "- in your os, rename the directoy.  eg  `mv /tmp/tmptdfvh5pe /tmp/repo_fixture`\n",
    "- finish or cancel debug run\n",
    "\n",
    "ToDo: add a persist option to `tests.test_core.repo_fixture`  "
   ]
  },
  {
   "cell_type": "code",
   "execution_count": 1,
   "metadata": {},
   "outputs": [],
   "source": [
    "import fsspec"
   ]
  },
  {
   "cell_type": "markdown",
   "metadata": {},
   "source": [
    "# gitpythonfs"
   ]
  },
  {
   "cell_type": "code",
   "execution_count": 2,
   "metadata": {},
   "outputs": [],
   "source": [
    "import gitpythonfs"
   ]
  },
  {
   "cell_type": "code",
   "execution_count": 3,
   "metadata": {},
   "outputs": [],
   "source": [
    "# path = \"/tmp/repo_fixture\"\n",
    "path = \"~/dlt\"\n",
    "fs_gitpythonfs = fsspec.filesystem(\"gitpythonfs\", repo_path=path)"
   ]
  },
  {
   "cell_type": "code",
   "execution_count": null,
   "metadata": {},
   "outputs": [],
   "source": [
    "fs_at_current_directory = fsspec.filesystem(\"gitpythonfs\")"
   ]
  },
  {
   "cell_type": "code",
   "execution_count": 4,
   "metadata": {},
   "outputs": [
    {
     "data": {
      "text/plain": [
       "<git.repo.base.Repo '/home/deanja/dlt/.git'>"
      ]
     },
     "execution_count": 4,
     "metadata": {},
     "output_type": "execute_result"
    }
   ],
   "source": [
    "fs_gitpythonfs.repo"
   ]
  },
  {
   "cell_type": "code",
   "execution_count": 5,
   "metadata": {},
   "outputs": [
    {
     "data": {
      "text/plain": [
       "'add-git-to-filesystem-source-301'"
      ]
     },
     "execution_count": 5,
     "metadata": {},
     "output_type": "execute_result"
    }
   ],
   "source": [
    "fs_gitpythonfs.repo.head.ref.name"
   ]
  },
  {
   "cell_type": "markdown",
   "metadata": {},
   "source": [
    "Now let's look at some contents of our repo:"
   ]
  },
  {
   "cell_type": "code",
   "execution_count": 6,
   "metadata": {},
   "outputs": [
    {
     "data": {
      "text/plain": [
       "['.dockerignore',\n",
       " '.editorconfig',\n",
       " '.github',\n",
       " '.gitignore',\n",
       " 'CONTRIBUTING.md',\n",
       " 'LICENSE.txt',\n",
       " 'Makefile',\n",
       " 'README.md',\n",
       " 'check-package.sh',\n",
       " 'compiled_packages.txt',\n",
       " 'deploy',\n",
       " 'dlt',\n",
       " 'docs',\n",
       " 'mypy.ini',\n",
       " 'poetry-deps.sh',\n",
       " 'poetry.lock',\n",
       " 'pyproject.toml',\n",
       " 'pytest.ini',\n",
       " 'tests',\n",
       " 'tox.ini']"
      ]
     },
     "execution_count": 6,
     "metadata": {},
     "output_type": "execute_result"
    }
   ],
   "source": [
    "fs_gitpythonfs.ls(\"\")"
   ]
  },
  {
   "cell_type": "markdown",
   "metadata": {},
   "source": [
    "Note that we got the folder `inner`, because our implementation uses head, which is currently at branch `abranch`.  Different to the `git` fsspec implementation, which defaults to `master` branch."
   ]
  },
  {
   "cell_type": "code",
   "execution_count": 7,
   "metadata": {},
   "outputs": [
    {
     "data": {
      "text/plain": [
       "[{'name': '.dockerignore',\n",
       "  'type': 'file',\n",
       "  'mime_type': 'text/plain',\n",
       "  'size': 168,\n",
       "  'hex': '0c3244a411fe1751d82029c92dd8ea68f1cc4b46',\n",
       "  'mode': '100644',\n",
       "  'committed_date': 1685729443},\n",
       " {'name': '.editorconfig',\n",
       "  'type': 'file',\n",
       "  'mime_type': 'text/plain',\n",
       "  'size': 319,\n",
       "  'hex': '82a6b37b3c9f057da069ee0f3bdb7415fe9715e9',\n",
       "  'mode': '100644',\n",
       "  'committed_date': 1670792044},\n",
       " {'name': '.github',\n",
       "  'type': 'directory',\n",
       "  'mime_type': None,\n",
       "  'size': 177,\n",
       "  'hex': '3967419f325f89ea9990877681da2c2a1547b785',\n",
       "  'mode': '40000'},\n",
       " {'name': '.gitignore',\n",
       "  'type': 'file',\n",
       "  'mime_type': 'text/plain',\n",
       "  'size': 1869,\n",
       "  'hex': 'f26ea23d9157be88d5ba5d0822b5df94c3b3362f',\n",
       "  'mode': '100644',\n",
       "  'committed_date': 1699374841},\n",
       " {'name': 'CONTRIBUTING.md',\n",
       "  'type': 'file',\n",
       "  'mime_type': 'text/markdown',\n",
       "  'size': 5370,\n",
       "  'hex': 'c5fb6f9658a0abb1e26f551e9a5b70e142cbdc15',\n",
       "  'mode': '100644',\n",
       "  'committed_date': 1692369585},\n",
       " {'name': 'LICENSE.txt',\n",
       "  'type': 'file',\n",
       "  'mime_type': 'text/plain',\n",
       "  'size': 11343,\n",
       "  'hex': 'fa1b4ed2de7e8dfc9f58fff2bb179d51f00ef21e',\n",
       "  'mode': '100644',\n",
       "  'committed_date': 1654274892},\n",
       " {'name': 'Makefile',\n",
       "  'type': 'file',\n",
       "  'mime_type': 'text/plain',\n",
       "  'size': 3310,\n",
       "  'hex': '85f67818ac83c3e44b2bc33787c3f83a877c717e',\n",
       "  'mode': '100644',\n",
       "  'committed_date': 1700246943},\n",
       " {'name': 'README.md',\n",
       "  'type': 'file',\n",
       "  'mime_type': 'text/markdown',\n",
       "  'size': 4528,\n",
       "  'hex': 'ec56d97ab7daf98ef6c83f1f9041e09d3bc474a5',\n",
       "  'mode': '100644',\n",
       "  'committed_date': 1698222755},\n",
       " {'name': 'check-package.sh',\n",
       "  'type': 'file',\n",
       "  'mime_type': 'text/x-sh',\n",
       "  'size': 680,\n",
       "  'hex': '17767b3eb929f0aea2143cdde66286a0a24f58fe',\n",
       "  'mode': '100755',\n",
       "  'committed_date': 1694424101},\n",
       " {'name': 'compiled_packages.txt',\n",
       "  'type': 'file',\n",
       "  'mime_type': 'text/plain',\n",
       "  'size': 56,\n",
       "  'hex': '5738dbcb079570b439674bfef0647b2dac61c15d',\n",
       "  'mode': '100644',\n",
       "  'committed_date': 1654274892},\n",
       " {'name': 'deploy',\n",
       "  'type': 'directory',\n",
       "  'mime_type': None,\n",
       "  'size': 30,\n",
       "  'hex': '2c9875d8b6e8db02965ac341d26aa786b8526fb0',\n",
       "  'mode': '40000'},\n",
       " {'name': 'dlt',\n",
       "  'type': 'directory',\n",
       "  'mime_type': None,\n",
       "  'size': 456,\n",
       "  'hex': 'bb7fee69f04e3bc1717a187e666717694d9ef7ca',\n",
       "  'mode': '40000'},\n",
       " {'name': 'docs',\n",
       "  'type': 'directory',\n",
       "  'mime_type': None,\n",
       "  'size': 144,\n",
       "  'hex': '5f79bd406945d0574c42f7dcc8274c8dc4939001',\n",
       "  'mode': '40000'},\n",
       " {'name': 'mypy.ini',\n",
       "  'type': 'file',\n",
       "  'mime_type': 'text/plain',\n",
       "  'size': 1935,\n",
       "  'hex': '0d7ab84da9d04153455438badc7c82dbcefbd88b',\n",
       "  'mode': '100644',\n",
       "  'committed_date': 1698141179},\n",
       " {'name': 'poetry-deps.sh',\n",
       "  'type': 'file',\n",
       "  'mime_type': 'text/x-sh',\n",
       "  'size': 6880,\n",
       "  'hex': '4fad8b06c1acee46018b771e7f68ec662307e89c',\n",
       "  'mode': '100755',\n",
       "  'committed_date': 1655132990},\n",
       " {'name': 'poetry.lock',\n",
       "  'type': 'file',\n",
       "  'mime_type': 'text/plain',\n",
       "  'size': 625752,\n",
       "  'hex': 'e925740fb7b94bf759fb67a1c5ad7b0ed520607a',\n",
       "  'mode': '100644',\n",
       "  'committed_date': 1699461352},\n",
       " {'name': 'pyproject.toml',\n",
       "  'type': 'file',\n",
       "  'mime_type': 'text/plain',\n",
       "  'size': 5580,\n",
       "  'hex': 'ba39912867055d501b4bc2d55ba6deb375b25c91',\n",
       "  'mode': '100644',\n",
       "  'committed_date': 1700329173},\n",
       " {'name': 'pytest.ini',\n",
       "  'type': 'file',\n",
       "  'mime_type': 'text/plain',\n",
       "  'size': 263,\n",
       "  'hex': 'fc7ce9119bf003cdc3fc5db0b499777eafbeead8',\n",
       "  'mode': '100644',\n",
       "  'committed_date': 1695034480},\n",
       " {'name': 'tests',\n",
       "  'type': 'directory',\n",
       "  'mime_type': None,\n",
       "  'size': 596,\n",
       "  'hex': '77de56ac75b9f519b92966744aadc1d7b769dd44',\n",
       "  'mode': '40000'},\n",
       " {'name': 'tox.ini',\n",
       "  'type': 'file',\n",
       "  'mime_type': 'text/plain',\n",
       "  'size': 355,\n",
       "  'hex': '7d16160004a265f9e29bea61eb7e77fad1fc90a3',\n",
       "  'mode': '100644',\n",
       "  'committed_date': 1680785052}]"
      ]
     },
     "execution_count": 7,
     "metadata": {},
     "output_type": "execute_result"
    }
   ],
   "source": [
    "fs_gitpythonfs.ls(\"\", detail=True)"
   ]
  },
  {
   "cell_type": "markdown",
   "metadata": {},
   "source": [
    "\n",
    "walk() - and therefore find() -  are very slow.  That's because walk() invokes list(detail=True), which then expensively gets committed_date by default. Walk uses detail=True because it needs to discern file vs directory.  You can pass include_committed_date=False to either walk() or find() to speed them up."
   ]
  },
  {
   "cell_type": "code",
   "execution_count": 20,
   "metadata": {},
   "outputs": [
    {
     "name": "stdout",
     "output_type": "stream",
     "text": [
      "('', ['.github', 'deploy', 'dlt', 'docs', 'tests'], ['.dockerignore', '.editorconfig', '.gitignore', 'CONTRIBUTING.md', 'LICENSE.txt', 'Makefile', 'README.md', 'check-package.sh', 'compiled_packages.txt', 'mypy.ini', 'poetry-deps.sh', 'poetry.lock', 'pyproject.toml', 'pytest.ini', 'tox.ini'])\n",
      "('.github', ['ISSUE_TEMPLATE', 'workflows'], ['PULL_REQUEST_TEMPLATE.md', 'weaviate-compose.yml'])\n",
      "('.github/ISSUE_TEMPLATE', [], ['bug_report.yml', 'config.yml', 'feature_request.yml'])\n",
      "('.github/workflows', [], ['get_docs_changes.yml', 'lint.yml', 'test_airflow.yml', 'test_build_images.yml', 'test_common.yml', 'test_dbt_cloud.yml', 'test_dbt_runner.yml', 'test_destination_athena.yml', 'test_destination_athena_iceberg.yml', 'test_destination_bigquery.yml', 'test_destination_mssql.yml', 'test_destination_qdrant.yml', 'test_destination_snowflake.yml', 'test_destination_synapse.yml', 'test_destination_weaviate.yml', 'test_destinations.yml', 'test_doc_snippets.yml', 'test_local_destinations.yml'])\n",
      "('deploy', ['dlt'], [])\n",
      "('deploy/dlt', [], ['Dockerfile', 'Dockerfile.airflow', 'README.md'])\n",
      "('dlt', ['cli', 'common', 'destinations', 'extract', 'helpers', 'load', 'normalize', 'pipeline', 'reflection', 'sources'], ['__init__.py', 'py.typed', 'version.py'])\n",
      "('dlt/cli', [], ['__init__.py', '_dlt.py', 'config_toml_writer.py', 'deploy_command.py', 'deploy_command_helpers.py', 'echo.py', 'exceptions.py', 'init_command.py', 'pipeline_command.py', 'pipeline_files.py', 'requirements.py', 'source_detection.py', 'telemetry_command.py', 'utils.py'])\n",
      "('dlt/common', ['configuration', 'data_types', 'data_writers', 'destination', 'json', 'libs', 'normalizers', 'reflection', 'runners', 'runtime', 'schema', 'storages'], ['__init__.py', 'arithmetics.py', 'exceptions.py', 'git.py', 'jsonpath.py', 'pendulum.py', 'pipeline.py', 'source.py', 'time.py', 'typing.py', 'utils.py', 'validation.py', 'wei.py'])\n",
      "('dlt/common/configuration', ['providers', 'specs'], ['__init__.py', 'accessors.py', 'container.py', 'exceptions.py', 'inject.py', 'paths.py', 'resolve.py', 'utils.py'])\n",
      "('dlt/common/configuration/providers', [], ['__init__.py', 'airflow.py', 'context.py', 'dictionary.py', 'environ.py', 'google_secrets.py', 'provider.py', 'toml.py'])\n",
      "('dlt/common/configuration/specs', [], ['__init__.py', 'api_credentials.py', 'aws_credentials.py', 'azure_credentials.py', 'base_configuration.py', 'config_providers_context.py', 'config_section_context.py', 'connection_string_credentials.py', 'exceptions.py', 'gcp_credentials.py', 'known_sections.py', 'run_configuration.py'])\n",
      "('dlt/common/data_types', [], ['__init__.py', 'type_helpers.py', 'typing.py'])\n",
      "('dlt/common/data_writers', [], ['__init__.py', 'buffered.py', 'escape.py', 'exceptions.py', 'writers.py'])\n",
      "('dlt/common/destination', [], ['__init__.py', 'capabilities.py', 'reference.py'])\n",
      "('dlt/common/json', [], ['__init__.py', '_orjson.py', '_simplejson.py'])\n",
      "('dlt/common/libs', [], ['__init__.py', 'pandas.py', 'pyarrow.py', 'pydantic.py'])\n",
      "('dlt/common/normalizers', ['json', 'naming'], ['__init__.py', 'configuration.py', 'exceptions.py', 'typing.py', 'utils.py'])\n",
      "('dlt/common/normalizers/json', [], ['__init__.py', 'relational.py'])\n",
      "('dlt/common/normalizers/naming', [], ['__init__.py', 'direct.py', 'duck_case.py', 'exceptions.py', 'naming.py', 'snake_case.py'])\n",
      "('dlt/common/reflection', [], ['__init__.py', 'function_visitor.py', 'spec.py', 'utils.py'])\n",
      "('dlt/common/runners', [], ['__init__.py', 'configuration.py', 'pool_runner.py', 'runnable.py', 'stdout.py', 'synth_pickle.py', 'typing.py', 'venv.py'])\n",
      "('dlt/common/runtime', [], ['__init__.py', 'collector.py', 'exec_info.py', 'init.py', 'json_logging.py', 'logger.py', 'prometheus.py', 'segment.py', 'sentry.py', 'signals.py', 'slack.py', 'telemetry.py'])\n",
      "('dlt/common/schema', [], ['__init__.py', 'detections.py', 'exceptions.py', 'schema.py', 'typing.py', 'utils.py'])\n",
      "('dlt/common/storages', [], ['__init__.py', 'configuration.py', 'data_item_storage.py', 'exceptions.py', 'file_storage.py', 'fsspec_filesystem.py', 'live_schema_storage.py', 'load_storage.py', 'normalize_storage.py', 'schema_storage.py', 'transactional_file.py', 'versioned_storage.py'])\n",
      "('dlt/destinations', ['athena', 'bigquery', 'duckdb', 'dummy', 'filesystem', 'motherduck', 'mssql', 'postgres', 'qdrant', 'redshift', 'snowflake', 'weaviate'], ['__init__.py', 'exceptions.py', 'insert_job_client.py', 'job_client_impl.py', 'job_impl.py', 'path_utils.py', 'sql_client.py', 'sql_jobs.py', 'type_mapping.py', 'typing.py'])\n",
      "('dlt/destinations/athena', [], ['__init__.py', 'athena.py', 'configuration.py'])\n",
      "('dlt/destinations/bigquery', [], ['README.md', '__init__.py', 'bigquery.py', 'configuration.py', 'sql_client.py'])\n",
      "('dlt/destinations/duckdb', [], ['__init__.py', 'configuration.py', 'duck.py', 'sql_client.py'])\n",
      "('dlt/destinations/dummy', [], ['__init__.py', 'configuration.py', 'dummy.py'])\n",
      "('dlt/destinations/filesystem', [], ['__init__.py', 'configuration.py', 'filesystem.py'])\n",
      "('dlt/destinations/motherduck', [], ['__init__.py', 'configuration.py', 'motherduck.py', 'sql_client.py'])\n",
      "('dlt/destinations/mssql', [], ['README.md', '__init__.py', 'configuration.py', 'mssql.py', 'sql_client.py'])\n",
      "('dlt/destinations/postgres', [], ['README.md', '__init__.py', 'configuration.py', 'postgres.py', 'sql_client.py'])\n",
      "('dlt/destinations/qdrant', [], ['__init__.py', 'configuration.py', 'qdrant_adapter.py', 'qdrant_client.py'])\n",
      "('dlt/destinations/redshift', [], ['README.md', '__init__.py', 'configuration.py', 'redshift.py'])\n",
      "('dlt/destinations/snowflake', [], ['__init__.py', 'configuration.py', 'snowflake.py', 'sql_client.py'])\n",
      "('dlt/destinations/weaviate', [], ['README.md', '__init__.py', 'ci_naming.py', 'configuration.py', 'exceptions.py', 'naming.py', 'weaviate_adapter.py', 'weaviate_client.py'])\n",
      "('dlt/extract', ['incremental'], ['__init__.py', 'decorators.py', 'exceptions.py', 'extract.py', 'pipe.py', 'schema.py', 'source.py', 'typing.py', 'utils.py', 'validation.py', 'wrappers.py'])\n",
      "('dlt/extract/incremental', [], ['__init__.py', 'exceptions.py', 'transform.py', 'typing.py'])\n",
      "('dlt/helpers', ['dbt', 'dbt_cloud'], ['__init__.py', 'airflow_helper.py', 'streamlit_helper.py'])\n",
      "('dlt/helpers/dbt', [], ['__init__.py', 'configuration.py', 'dbt_utils.py', 'exceptions.py', 'profiles.yml', 'runner.py'])\n",
      "('dlt/helpers/dbt_cloud', [], ['__init__.py', 'client.py', 'configuration.py'])\n",
      "('dlt/load', [], ['__init__.py', 'configuration.py', 'exceptions.py', 'load.py'])\n",
      "('dlt/normalize', [], ['__init__.py', 'configuration.py', 'exceptions.py', 'items_normalizers.py', 'normalize.py'])\n",
      "('dlt/pipeline', [], ['__init__.py', 'configuration.py', 'current.py', 'dbt.py', 'exceptions.py', 'helpers.py', 'mark.py', 'pipeline.py', 'progress.py', 'state_sync.py', 'trace.py', 'track.py', 'typing.py'])\n",
      "('dlt/reflection', [], ['__init__.py', 'names.py', 'script_inspector.py', 'script_visitor.py'])\n",
      "('dlt/sources', ['helpers'], ['__init__.py', 'config.py', 'credentials.py', 'filesystem.py'])\n",
      "('dlt/sources/helpers', ['requests'], ['__init__.py', 'transform.py'])\n",
      "('dlt/sources/helpers/requests', [], ['__init__.py', 'retry.py', 'session.py', 'typing.py'])\n",
      "('docs', ['examples', 'technical', 'website'], ['__init__.py'])\n",
      "('docs/examples', ['archive', 'chess', 'chess_production', 'connector_x_arrow', 'incremental_loading', 'nested_data', 'transformers', 'transformers_and_parallelism'], ['CONTRIBUTING.md'])\n",
      "('docs/examples/archive', ['.dlt', 'credentials', 'data', 'examples', 'schemas', 'sources'], ['README.md', '__init__.py', '_helpers.py', 'dbt_run_jaffle.py', 'discord_iterator.py', 'google_drive_csv.py', 'google_sheets.py', 'quickstart.py', 'rasa_example.py', 'read_table.py', 'restore_pipeline.py', 'singer_tap_example.py', 'singer_tap_jsonl_example.py', 'sync_schema_example.py'])\n",
      "('docs/examples/archive/.dlt', [], ['example.secrets.toml'])\n",
      "('docs/examples/archive/credentials', ['.dlt'], ['__init__.py', 'explicit.py'])\n",
      "('docs/examples/archive/credentials/.dlt', [], ['config.toml'])\n",
      "('docs/examples/archive/data', ['rasa_trackers', 'singer_taps'], ['channels.json', 'demo_example.json', 'messages.json'])\n",
      "('docs/examples/archive/data/rasa_trackers', [], ['2888158124550630_tracker.jsonl', '8629c904-0c26-4f0b-927b-14d48db43c28_tracker.jsonl'])\n",
      "('docs/examples/archive/data/singer_taps', [], ['csv_catalog.json', 'model_annotations.csv', 'tap_google_sheet.jsonl', 'tap_hubspot.jsonl'])\n",
      "('docs/examples/archive/examples', ['schemas'], [])\n",
      "('docs/examples/archive/examples/schemas', [], ['dlt_quickstart.schema.yaml'])\n",
      "('docs/examples/archive/schemas', [], ['__init__.py', 'discord.schema.yml', 'dlt_quickstart.schema.yaml', 'hubspot.schema.yaml', 'inferred_demo.schema.yml'])\n",
      "('docs/examples/archive/sources', ['rasa'], ['__init__.py', 'google_sheets.py', 'jsonl.py', 'singer_tap.py', 'sql_query.py', 'stdout.py'])\n",
      "('docs/examples/archive/sources/rasa', [], ['__init__.py', 'rasa.py', 'rasa.schema.yaml'])\n",
      "('docs/examples/chess', ['.dlt', 'dbt_transform'], ['__init__.py', 'chess.py', 'chess_dbt.py'])\n",
      "('docs/examples/chess/.dlt', [], ['config.toml'])\n",
      "('docs/examples/chess/dbt_transform', ['analyses', 'macros', 'models', 'seeds', 'snapshots', 'tests'], ['.gitignore', 'dbt_project.yml', 'packages.yml'])\n",
      "('docs/examples/chess/dbt_transform/analyses', [], ['.gitkeep'])\n",
      "('docs/examples/chess/dbt_transform/macros', [], ['.gitkeep'])\n",
      "('docs/examples/chess/dbt_transform/models', [], ['_dlt_loads.sql', 'load_ids.sql', 'schema.yml', 'sources.yml', 'view_player_games.sql'])\n",
      "('docs/examples/chess/dbt_transform/seeds', [], ['.gitkeep'])\n",
      "('docs/examples/chess/dbt_transform/snapshots', [], ['.gitkeep'])\n",
      "('docs/examples/chess/dbt_transform/tests', [], ['.gitkeep'])\n",
      "('docs/examples/chess_production', ['.dlt'], ['__init__.py', 'chess.py'])\n",
      "('docs/examples/chess_production/.dlt', [], ['config.toml'])\n",
      "('docs/examples/connector_x_arrow', [], ['__init__.py'])\n",
      "('docs/examples/incremental_loading', ['.dlt'], ['__init__.py', 'zendesk.py'])\n",
      "('docs/examples/incremental_loading/.dlt', [], ['config.toml', 'secrets.toml'])\n",
      "('docs/examples/nested_data', ['.dlt'], ['__init__.py', 'nested_data.py'])\n",
      "('docs/examples/nested_data/.dlt', [], ['config.toml', 'secrets.toml'])\n",
      "('docs/examples/transformers', ['.dlt'], ['__init__.py', 'pokemon.py'])\n",
      "('docs/examples/transformers/.dlt', [], ['config.toml'])\n",
      "('docs/examples/transformers_and_parallelism', [], ['__init__.py'])\n",
      "('docs/technical', [], ['README.md', 'create_pipeline.md', 'customization_and_hacking.md', 'general_usage.md', 'working_with_schemas.md'])\n",
      "('docs/website', ['blog', 'docs', 'src', 'static', 'tools'], ['.gitignore', '.npmrc', 'README.md', '__init__.py', 'babel.config.js', 'docusaurus.config.js', 'netlify.toml', 'package-lock.json', 'package.json', 'pydoc-markdown.yml', 'pydoc_markdown_dlt.py', 'requirements.txt', 'sidebars.js'])\n",
      "('docs/website/blog', [], ['2023-02-16-dlthub-mission.md', '2023-02-22-dlthub-who-we-serve.md', '2023-03-09-duckdb-1M-downloads-users.mdx', '2023-03-16-is-duckdb-a-database-for-ducks.mdx', '2023-04-27-ga4-internal-dashboard-demo.md', '2023-05-15-hacker-news-gpt-4-dashboard-demo.md', '2023-05-25-postgresql-bigquery-metabase-demo.md', '2023-05-26-structured-data-lakes-through-schema-evolution-next-generation-data-platform.md', '2023-06-05-google-sheets-to-data-warehouse-pipeline.md', '2023-06-10-schema-evolution.md', '2023-06-14-dlthub-gpt-accelerated learning_01.md', '2023-06-15-automating-data-engineers.md', '2023-06-20-dlthub-gptquestion1-.md', '2023-06-21-open-api-spec-for-dlt-init.md', '2023-06-26-dlthub-gptquestion2.md', '2023-08-14-dlt-motherduck-blog.md', '2023-08-21-dlt-lineage-support.md', '2023-08-24-dlt-etlt.md', '2023-09-05-mongo-etl.md', '2023-09-20-data-engineering-cv.md', '2023-09-26-verba-dlt-zendesk.md', '2023-10-06-dlt-holistics.md', '2023-10-09-dlt-ops-startups.md', '2023-10-10-data-product-docs.md', '2023-10-16-first-data-warehouse.md', '2023-10-19-dbt-runners.md', '2023-10-23-arrow-loading.md', '2023-10-25-dlt-deepnote.md', '2023-10-26-dlt-prefect.md', '2023-10-30-data-modelling-tools.md', '2023-11-01-dlt-dagster.md', '2023-11-08-solving-ingestion.md', '2023-11-22-dlt-webhooks-event-based-ingestion.md', '2023-11-27-dlt-data-lineage.md', '2023-11-29-exploring-data-replication-of-sap-hana-to-snowflake-using-dlt.md', '2023-12-01-dlt-kestra-demo.md', 'authors.yml'])\n",
      "('docs/website/docs', ['.dlt', 'assets', 'dlt-ecosystem', 'examples', 'general-usage', 'reference', 'running-in-production', 'walkthroughs'], ['__init__.py', 'build-a-pipeline-tutorial.md', 'conftest.py', 'getting-started-snippets.py', 'getting-started.md', 'intro-snippets.py', 'intro.md', 'utils.py'])\n",
      "('docs/website/docs/.dlt', [], ['config.toml'])\n",
      "('docs/website/docs/assets', ['invoices'], ['json_file.json'])\n",
      "('docs/website/docs/assets/invoices', [], ['invoice_2.txt', 'invoice_20230831-p1.pdf'])\n",
      "('docs/website/docs/dlt-ecosystem', ['destinations', 'file-formats', 'transformations', 'verified-sources', 'visualizations'], ['staging.md'])\n",
      "('docs/website/docs/dlt-ecosystem/destinations', [], ['athena.md', 'bigquery.md', 'duckdb.md', 'filesystem.md', 'index.md', 'motherduck.md', 'mssql.md', 'postgres.md', 'qdrant.md', 'redshift.md', 'snowflake.md', 'weaviate.md'])\n",
      "('docs/website/docs/dlt-ecosystem/file-formats', [], ['insert-format.md', 'jsonl.md', 'parquet.md'])\n",
      "('docs/website/docs/dlt-ecosystem/transformations', ['dbt'], ['pandas.md', 'sql.md'])\n",
      "('docs/website/docs/dlt-ecosystem/transformations/dbt', [], ['__init__.py', 'dbt-snippets.py', 'dbt.md', 'dbt_cloud.md', 'profiles.yml'])\n",
      "('docs/website/docs/dlt-ecosystem/verified-sources', ['docs_images'], ['airtable.md', 'amazon_kinesis.md', 'arrow-pandas.md', 'asana.md', 'chess.md', 'facebook_ads.md', 'filesystem.md', 'github.md', 'google_analytics.md', 'google_sheets.md', 'hubspot.md', 'inbox.md', 'index.md', 'jira.md', 'matomo.md', 'mongodb.md', 'mux.md', 'notion.md', 'personio.md', 'pipedrive.md', 'salesforce.md', 'shopify.md', 'slack.md', 'sql_database.md', 'strapi.md', 'stripe.md', 'workable.md', 'zendesk.md'])\n",
      "('docs/website/docs/dlt-ecosystem/verified-sources/docs_images', [], ['Add_people.png', 'Airtable_ids.jpeg', 'GA4_Property_ID_size.png', 'Matomo_name_and_id.png', 'Notion_Database_2.jpeg', 'Share_button.png', 'Zendesk_Admin.jpeg', 'Zendesk_chat_access_token.jpg'])\n",
      "('docs/website/docs/dlt-ecosystem/visualizations', [], ['exploring-the-data.md'])\n",
      "('docs/website/docs/examples', ['chess_production', 'connector_x_arrow', 'incremental_loading', 'nested_data', 'transformers'], ['_examples-header.md', 'index.md'])\n",
      "('docs/website/docs/examples/chess_production', ['code'], ['__init__.py', 'index.md'])\n",
      "('docs/website/docs/examples/chess_production/code', ['.dlt'], ['__init__.py', 'chess-snippets.py'])\n",
      "('docs/website/docs/examples/chess_production/code/.dlt', [], ['config.toml'])\n",
      "('docs/website/docs/examples/connector_x_arrow', ['code'], ['__init__.py', 'index.md'])\n",
      "('docs/website/docs/examples/connector_x_arrow/code', [], ['__init__.py', 'load_arrow-snippets.py'])\n",
      "('docs/website/docs/examples/incremental_loading', ['code'], ['__init__.py', 'index.md'])\n",
      "('docs/website/docs/examples/incremental_loading/code', ['.dlt'], ['__init__.py', 'zendesk-snippets.py'])\n",
      "('docs/website/docs/examples/incremental_loading/code/.dlt', [], ['config.toml', 'secrets.toml'])\n",
      "('docs/website/docs/examples/nested_data', ['code'], ['__init__.py', 'index.md'])\n",
      "('docs/website/docs/examples/nested_data/code', ['.dlt'], ['__init__.py', 'nested_data-snippets.py'])\n",
      "('docs/website/docs/examples/nested_data/code/.dlt', [], ['config.toml', 'secrets.toml'])\n",
      "('docs/website/docs/examples/transformers', ['code'], ['__init__.py', 'index.md'])\n",
      "('docs/website/docs/examples/transformers/code', ['.dlt'], ['__init__.py', 'pokemon-snippets.py'])\n",
      "('docs/website/docs/examples/transformers/code/.dlt', [], ['config.toml'])\n",
      "('docs/website/docs/general-usage', ['credentials', 'customising-pipelines'], ['destination-tables.md', 'full-loading.md', 'glossary.md', 'incremental-loading.md', 'pipeline.md', 'resource.md', 'schema.md', 'source.md', 'state.md'])\n",
      "('docs/website/docs/general-usage/credentials', [], ['config_providers.md', 'config_specs.md', 'configuration.md'])\n",
      "('docs/website/docs/general-usage/customising-pipelines', [], ['pseudonymizing_columns.md', 'renaming_columns.md'])\n",
      "('docs/website/docs/reference', ['explainers', 'performance_snippets'], ['__init__.py', 'command-line-interface.md', 'installation.md', 'performance.md', 'telemetry.md'])\n",
      "('docs/website/docs/reference/explainers', [], ['airflow-gcp-cloud-composer.md', 'how-dlt-works.md'])\n",
      "('docs/website/docs/reference/performance_snippets', ['.dlt'], ['__init__.py', 'performance-snippets.py', 'toml-snippets.toml'])\n",
      "('docs/website/docs/reference/performance_snippets/.dlt', [], ['config.toml'])\n",
      "('docs/website/docs/running-in-production', ['images'], ['alerting.md', 'monitoring.md', 'running.md', 'tracing.md'])\n",
      "('docs/website/docs/running-in-production/images', [], ['airflow_dag_tasks.png', 'airflow_dags.png', 'airflow_slack_notification.png', 'github_actions_workflow_dag.png', 'github_actions_workflows.png'])\n",
      "('docs/website/docs/walkthroughs', ['deploy-a-pipeline'], ['add-a-verified-source.md', 'add_credentials.md', 'adjust-a-schema.md', 'create-a-pipeline.md', 'create-new-destination.md', 'run-a-pipeline.md', 'share-a-dataset.md', 'zendesk-weaviate.md'])\n",
      "('docs/website/docs/walkthroughs/deploy-a-pipeline', ['images'], ['deploy-gcp-cloud-function-as-webhook.md', 'deploy-with-airflow-composer.md', 'deploy-with-github-actions.md', 'deploy-with-google-cloud-functions.md'])\n",
      "('docs/website/docs/walkthroughs/deploy-a-pipeline/images', [], ['add-credential.png', 'dag-folder.png', 'run-trigger.png'])\n",
      "('docs/website/src', ['css', 'theme'], [])\n",
      "('docs/website/src/css', [], ['custom.css'])\n",
      "('docs/website/src/theme', [], ['DLTExampleHeader.tsx', 'MDXComponents.js', 'Root.js'])\n",
      "('docs/website/static', ['img'], ['.nojekyll'])\n",
      "('docs/website/static/img', [], ['CO-Blue.svg', 'CO-White.svg', 'Concepts - Active.svg', 'Concepts - Inactive.svg', 'Customization-Active-1.svg', 'Customization-Active.svg', 'Customization-Inactive-1.svg', 'Customization-Inactive.svg', 'Destinations-Active-1.svg', 'Destinations-Active.svg', 'Destinations-Inactive-1.svg', 'Destinations-Inactive.svg', 'GeneralUsage-Active-1.svg', 'GeneralUsage-Active.svg', 'GeneralUsage-Inactive-1.svg', 'GeneralUsage-Inactive.svg', 'GettingStarted-Active-1.svg', 'GettingStarted-Active.svg', 'GettingStarted-Inactive-1.svg', 'GettingStarted-Inactive.svg', 'GithubDark.svg', 'GithubLight.svg', 'Holistics_new.gif', 'Howdltworks-Active-1.svg', 'Howdltworks-Active.svg', 'Howdltworks-Inactive-1.svg', 'Howdltworks-Inactive.svg', 'Installation-Active-1.svg', 'Installation-Active.svg', 'Installation-Inactive-1.svg', 'Installation-Inactive.svg', 'Introduction-Active-1.svg', 'Introduction-Active.svg', 'Introduction-Inactive-1.svg', 'Introduction-Inactive.svg', 'Marcin-dltHub-DuckDB-DuckCon-Brussels.jpg', 'Pipelines-Active-1.svg', 'Pipelines-Active.svg', 'Pipelines-Inactive-1.svg', 'Pipelines-Inactive.svg', 'Reference-Active-1.svg', 'Reference-Active.svg', 'Reference-Inactive-1.svg', 'Reference-Inactive.svg', 'RunningInProduction-Active-1.svg', 'RunningInProduction-Active.svg', 'RunningInProduction-Inactive-1.svg', 'RunningInProduction-Inactive.svg', 'SlackDark.svg', 'SlackLight.svg', 'UserGuide-Active-1.svg', 'UserGuide-Active.svg', 'UserGuide-Inactive-1.svg', 'UserGuide-Inactive.svg', 'UsingLoadedData-Active-1.svg', 'UsingLoadedData-Active.svg', 'UsingLoadedData-Inactive-1.svg', 'UsingLoadedData-Inactive.svg', 'Walkthrough-Active-1.svg', 'Walkthrough-Active.svg', 'Walkthrough-Inactive-1.svg', 'Walkthrough-Inactive.svg', 'add-credential.png', 'add-package.png', 'architecture-diagram.png', 'arrow_30x_faster.png', 'blog-ingestion-etl-tools-users.png', 'blog-modelling-data-dictionaries-gooddata.png', 'blog-modelling-data-dictionaries-metabase.png', 'blog-modelling-data-dictionaries-pbi.png', 'blog-modelling-data-types-power-bi.png', 'blog-modelling-granularity-gooddata.png', 'blog-modelling-granularity-metabase.png', 'blog-modelling-granularity-pbi.png', 'blog-modelling-language-gooddata.png', 'blog-modelling-language-metabase.png', 'blog-modelling-language-pbi.png', 'blog-modelling-metrics-gooddata.png', 'blog-modelling-metrics-metabase.png', 'blog-modelling-metrics-pbi.png', 'blog-modelling-refresh-gooddata.png', 'blog-modelling-refresh-metabase.png', 'blog-modelling-refresh-pbi.png', 'blog-modelling-table-prop-gooddata.png', 'blog-modelling-table-prop-metabase.png', 'blog-modelling-table-prop-pbi.png', 'blog-modelling-table-rel-gooddata.png', 'blog-modelling-table-rel-metabase.png', 'blog-modelling-table-rel-pbi.png', 'blog-what_would_drake_do.png', 'blog_deepnote_animation.gif', 'blog_deepnote_chart.png', 'blog_deepnote_improved_flow.png', 'blog_deepnote_usual_flow.png', 'blog_gpt_1.jpg', 'blog_gpt_QA2.jpg', 'bucket-details.png', 'chatgptQ1.png', 'chatgptQ2..png', 'dall-e-de-cv.png', 'data-dumpster.png', 'data-types-gooddata.png', 'data-types-metabase.png', 'dlt-business-knowledge-retrieval-augmented-generation-diagram.png', 'dlt-high-level.png', 'dlt-logo-old.svg', 'dlt-logo.svg', 'dlt-motherduck-dashboard-1.png', 'dlt-motherduck-dashboard-2.png', 'dlt-motherduck-dashboard-3.png', 'dlt-motherduck-dashboard-4.png', 'dlt-motherduck-duckdb-explore.png', 'dlt-motherduck-local-workflow.png', 'dlt-motherduck-logos.png', 'dlt-motherduck-nested-bigquery.png', 'dlt-motherduck-normalized-bigquery.png', 'dlt-motherduck-production-workflow.png', 'dlt-motherduck-share.png', 'dlt-pacman.gif', 'dlt-weaviate-verba-ui-1.png', 'dlt-weaviate-verba-ui-2.png', 'dlt.png', 'dlt_holistics_bigquery_data.png', 'dlt_holistics_bigquery_table.png', 'dlt_holistics_overview.jpg', 'dlthelp.jpg', 'dlthub-logo.png', 'docs_where_does_dlt_fit_in_ETL_pipeline.png', 'docusaurus.png', 'experiment3_dashboard_orders_chart.png', 'experiment3_dashboard_top_selling_tables.png', 'experiment3_low_stock_email_alert.png', 'experiment3_low_stock_file_csv.png', 'experiment4-blog-image.png', 'experiment4-campaign-roi-dashboard-1.png', 'experiment4-campaign-roi-dashboard-2.png', 'experiment4-campaign-roi-datawarehouse.png', 'experiment4-campaign-roi-google-sheets.png', 'experiment4-customer-support-platform-dashboard.png', 'experiment4-customer-support-platform-data-warehouse.png', 'experiment4-customer-support-platform-google-sheets.png', 'eye_of_data_lineage.png', 'favicon.ico', 'g4_dashboard_screen_grab_1.jpg', 'g4_dashboard_screen_grab_2.jpg', 'hn_gpt_dashboard.png', 'holistics_add_dataset.png', 'holistics_add_model.png', 'holistics_add_relationship.png', 'holistics_dashboard.png', 'holistics_overview.png', 'holistics_relationship_gui.png', 'invoice_flowchart.png', 'loading.svg', 'logo.svg', 'oil-painted-dashboard.png', 'open-core-data-stack.png', 'open-source.svg', 'parrot-baby.gif', 'pbi-modelled-livewell.png', 'pdf_parse_outcome_1.png', 'pdf_parse_outcome_2.png', 'pdf_parse_outcome_3.png', 'people-stuck-with-tables-2.jpg', 'pipeline-automaton.png', 'pipeline.png', 'prefect-dlt.png', 'purple-python-spoderweb.png', 'python.svg', 'schema_evolution_colab_demo.png', 'schema_evolution_colab_demo_light.png', 'streamlit1.png', 'structured_lake.png', 'test-composer.png', 'traingptblog.jpg', 'trigger-config.png', 'undraw_docusaurus_mountain.svg', 'undraw_docusaurus_react.svg', 'undraw_docusaurus_tree.svg', 'went-full-etltlt.png', 'why-duckdb.png', 'write-dispo-choice.png'])\n",
      "('docs/website/tools', [], ['update_snippets.js', 'update_version_env.js'])\n",
      "('tests', ['.dlt', 'cli', 'common', 'destinations', 'extract', 'helpers', 'load', 'normalize', 'pipeline', 'reflection', 'sources', 'tools'], ['.example.env', '__init__.py', 'cases.py', 'conftest.py', 'utils.py'])\n",
      "('tests/.dlt', [], ['config.toml'])\n",
      "('tests/cli', ['cases', 'common'], ['__init__.py', 'conftest.py', 'test_config_toml_writer.py', 'test_deploy_command.py', 'test_init_command.py', 'test_pipeline_command.py', 'utils.py'])\n",
      "('tests/cli/cases', ['deploy_pipeline'], [])\n",
      "('tests/cli/cases/deploy_pipeline', ['.dlt'], ['.gitignore', 'README.md', '__init__.py', 'debug_pipeline.py', 'dummy_pipeline.py', 'requirements.txt'])\n",
      "('tests/cli/cases/deploy_pipeline/.dlt', [], ['config.toml', 'secrets.toml', 'secrets.toml.ci'])\n",
      "('tests/cli/common', [], ['__init__.py', 'test_cli_invoke.py', 'test_telemetry_command.py'])\n",
      "('tests/common', ['cases', 'configuration', 'data_writers', 'normalizers', 'reflection', 'runners', 'runtime', 'schema', 'scripts', 'storages'], ['__init__.py', 'test_arithmetics.py', 'test_destination.py', 'test_git.py', 'test_json.py', 'test_pipeline_state.py', 'test_pyarrow.py', 'test_pydantic.py', 'test_time.py', 'test_typing.py', 'test_utils.py', 'test_validation.py', 'test_version.py', 'test_wei.py', 'utils.py'])\n",
      "('tests/common/cases', ['configuration', 'modules', 'schemas', 'secret-kube', 'secrets'], ['level-dragon-333019-707809ee408a.json.b64', 'mod_bot_case.json', 'oauth_client_secret_929384042504.json', 'pua_encoded_row.json', 'rasa_event_bot_metadata.json', 'secret-value', 'simple_row.json', 'weird_rows.json'])\n",
      "('tests/common/cases/configuration', ['.dlt', '.wrong.dlt', 'dlt_home'], [])\n",
      "('tests/common/cases/configuration/.dlt', [], ['config.toml', 'secrets.toml'])\n",
      "('tests/common/cases/configuration/.wrong.dlt', [], ['config.toml'])\n",
      "('tests/common/cases/configuration/dlt_home', [], ['config.toml'])\n",
      "('tests/common/cases/modules', [], ['__init__.py', 'uniq_mod_121.py'])\n",
      "('tests/common/cases/schemas', ['eth', 'ev1', 'ev2', 'github', 'local', 'rasa', 'sheets'], [])\n",
      "('tests/common/cases/schemas/eth', [], ['ethereum_schema_v3.yml', 'ethereum_schema_v4.yml', 'ethereum_schema_v5.yml', 'ethereum_schema_v6.yml'])\n",
      "('tests/common/cases/schemas/ev1', [], ['event.schema.7z', 'event.schema.bak.json.gz', 'event.schema.json', 'model.schema.json'])\n",
      "('tests/common/cases/schemas/ev2', [], ['event.schema.json'])\n",
      "('tests/common/cases/schemas/github', [], ['issues.schema.json'])\n",
      "('tests/common/cases/schemas/local', [], ['event.schema.json', 'event.schema.yaml', 'name_mismatch.schema.yaml'])\n",
      "('tests/common/cases/schemas/rasa', [], ['event.schema.json', 'model.schema.json'])\n",
      "('tests/common/cases/schemas/sheets', [], ['google_spreadsheet_v4.schema.json'])\n",
      "('tests/common/cases/secret-kube', [], ['secret-kube'])\n",
      "('tests/common/cases/secrets', [], ['deploy-key', 'deploy_key.pub', 'encrypted-private-key', 'encrypted-private-key-base64'])\n",
      "('tests/common/configuration', [], ['__init__.py', 'test_accessors.py', 'test_configuration.py', 'test_container.py', 'test_credentials.py', 'test_environ_provider.py', 'test_inject.py', 'test_providers.py', 'test_sections.py', 'test_spec_union.py', 'test_toml_provider.py', 'utils.py'])\n",
      "('tests/common/data_writers', [], ['__init__.py', 'test_buffered_writer.py', 'test_data_writers.py', 'test_parquet_writer.py'])\n",
      "('tests/common/normalizers', [], ['__init__.py', 'custom_normalizers.py', 'test_import_normalizers.py', 'test_json_relational.py', 'test_naming.py', 'test_naming_duck_case.py', 'test_naming_snake_case.py'])\n",
      "('tests/common/reflection', [], ['__init__.py', 'test_reflect_spec.py'])\n",
      "('tests/common/runners', [], ['__init__.py', 'test_pipes.py', 'test_runnable.py', 'test_runners.py', 'test_venv.py', 'utils.py'])\n",
      "('tests/common/runtime', [], ['__init__.py', 'test_collector.py', 'test_logging.py', 'test_signals.py', 'test_telemetry.py', 'utils.py'])\n",
      "('tests/common/schema', [], ['__init__.py', 'test_coercion.py', 'test_detections.py', 'test_filtering.py', 'test_inference.py', 'test_merges.py', 'test_schema.py', 'test_versioning.py'])\n",
      "('tests/common/scripts', [], ['__init__.py', 'args.py', 'counter.py', 'cwd.py', 'empty.py', 'environ.py', 'long_lines.py', 'long_lines_fails.py', 'no_stdout_exception.py', 'no_stdout_no_stderr_with_fail.py', 'raises.py', 'raising_counter.py', 'stdout_encode_exception.py', 'stdout_encode_result.py', 'stdout_encode_unpicklable.py'])\n",
      "('tests/common/storages', ['samples'], ['__init__.py', 'test_file_storage.py', 'test_loader_storage.py', 'test_local_filesystem.py', 'test_normalize_storage.py', 'test_schema_storage.py', 'test_transactional_file.py', 'test_versioned_storage.py', 'utils.py'])\n",
      "('tests/common/storages/samples', ['csv', 'jsonl', 'met_csv', 'parquet'], ['sample.txt'])\n",
      "('tests/common/storages/samples/csv', [], ['freshman_kgs.csv', 'freshman_lbs.csv', 'mlb_players.csv', 'mlb_teams_2012.csv'])\n",
      "('tests/common/storages/samples/jsonl', [], ['mlb_players.jsonl'])\n",
      "('tests/common/storages/samples/met_csv', ['A801', 'A803'], [])\n",
      "('tests/common/storages/samples/met_csv/A801', [], ['A881_20230920.csv'])\n",
      "('tests/common/storages/samples/met_csv/A803', [], ['A803_20230919.csv', 'A803_20230920.csv'])\n",
      "('tests/common/storages/samples/parquet', [], ['mlb_players.parquet'])\n",
      "('tests/destinations', [], ['__init__.py', 'test_path_utils.py'])\n",
      "('tests/extract', ['cases'], ['__init__.py', 'conftest.py', 'test_decorators.py', 'test_extract.py', 'test_extract_pipe.py', 'test_incremental.py', 'test_sources.py', 'test_utils.py', 'test_validation.py', 'utils.py'])\n",
      "('tests/extract/cases', ['eth_source', 'section_source'], ['__init__.py'])\n",
      "('tests/extract/cases/eth_source', [], ['__init__.py', 'ethereum.schema.yaml', 'source.py'])\n",
      "('tests/extract/cases/section_source', [], ['__init__.py', 'external_resources.py', 'named_module.py'])\n",
      "('tests/helpers', ['airflow_tests', 'dbt_cloud_tests', 'dbt_tests', 'providers', 'streamlit_tests'], [])\n",
      "('tests/helpers/airflow_tests', [], ['__init__.py', 'conftest.py', 'test_airflow_provider.py', 'test_airflow_wrapper.py', 'test_join_airflow_scheduler.py', 'utils.py'])\n",
      "('tests/helpers/dbt_cloud_tests', [], ['__init__.py', 'test_dbt_cloud.py'])\n",
      "('tests/helpers/dbt_tests', ['cases', 'local'], ['__init__.py', 'test_runner_dbt_versions.py', 'utils.py'])\n",
      "('tests/helpers/dbt_tests/cases', [], ['jaffle_customers_incremental.sql', 'jaffle_customers_incremental_new_column.sql', 'jaffle_customers_with_error.sql', 'profiles.yml', 'profiles_invalid_credentials.yml', 'run_execution_incremental_fail.pickle.hex', 'run_result_incremental_fail.pickle.hex'])\n",
      "('tests/helpers/dbt_tests/local', [], ['__init__.py', 'test_dbt_utils.py', 'test_runner_destinations.py', 'utils.py'])\n",
      "('tests/helpers/providers', [], ['__init__.py', 'test_google_secrets_provider.py'])\n",
      "('tests/helpers/streamlit_tests', [], ['__init__.py', 'test_streamlit_show_resources.py'])\n",
      "('tests/load', ['athena_iceberg', 'bigquery', 'cases', 'duckdb', 'filesystem', 'mssql', 'pipeline', 'postgres', 'qdrant', 'redshift', 'snowflake', 'weaviate'], ['__init__.py', 'conftest.py', 'test_dummy_client.py', 'test_insert_job_client.py', 'test_job_client.py', 'test_sql_client.py', 'utils.py'])\n",
      "('tests/load/athena_iceberg', [], ['__init__.py', 'test_athena_iceberg.py'])\n",
      "('tests/load/bigquery', [], ['__init__.py', 'test_bigquery_client.py', 'test_bigquery_table_builder.py'])\n",
      "('tests/load/cases', ['loading'], ['__init__.py', 'event.schema.json', 'event_user.json', 'fake_destination.py', 'long_column_name.json', 'long_table_name.json'])\n",
      "('tests/load/cases/loading', [], ['event_bot.181291798a78198.0.unsupported_format', 'event_bot.b1d32c6660b242aaabbf3fc27245b7e6.0.insert_values', 'event_loop_interrupted.839c6e6b514e427687586ccc65bf133f.0.jsonl', 'event_user.839c6e6b514e427687586ccc65bf133f.0.jsonl', 'event_user.b1d32c6660b242aaabbf3fc27245b7e6.0.insert_values', 'schema.json', 'schema_updates.json'])\n",
      "('tests/load/duckdb', [], ['__init__.py', 'test_duckdb_client.py', 'test_duckdb_table_builder.py', 'test_motherduck_client.py'])\n",
      "('tests/load/filesystem', [], ['__init__.py', 'test_aws_credentials.py', 'test_azure_credentials.py', 'test_filesystem_client.py', 'test_filesystem_common.py', 'utils.py'])\n",
      "('tests/load/mssql', [], ['__init__.py', 'test_mssql_credentials.py', 'test_mssql_table_builder.py'])\n",
      "('tests/load/pipeline', [], ['__init__.py', 'conftest.py', 'test_arrow_loading.py', 'test_athena.py', 'test_dbt_helper.py', 'test_drop.py', 'test_duckdb.py', 'test_filesystem_pipeline.py', 'test_merge_disposition.py', 'test_pipelines.py', 'test_redshift.py', 'test_replace_disposition.py', 'test_restore_state.py', 'test_stage_loading.py', 'test_write_disposition_changes.py', 'utils.py'])\n",
      "('tests/load/postgres', ['postgres'], ['__init__.py', 'docker-compose.yml', 'postgres.env', 'test_postgres_client.py', 'test_postgres_table_builder.py'])\n",
      "('tests/load/postgres/postgres', [], ['01_init.sql', 'Dockerfile'])\n",
      "('tests/load/qdrant', [], ['__init__.py', 'test_pipeline.py', 'utils.py'])\n",
      "('tests/load/redshift', [], ['__init__.py', 'setup_db.sql', 'test_redshift_client.py', 'test_redshift_table_builder.py'])\n",
      "('tests/load/snowflake', [], ['__init__.py', 'test_snowflake_configuration.py', 'test_snowflake_table_builder.py'])\n",
      "('tests/load/weaviate', [], ['__init__.py', 'test_naming.py', 'test_pipeline.py', 'test_weaviate_client.py', 'utils.py'])\n",
      "('tests/normalize', ['cases'], ['__init__.py', 'mock_rasa_json_normalizer.py', 'test_normalize.py', 'utils.py'])\n",
      "('tests/normalize/cases', ['schemas'], ['ethereum.blocks.9c1d9b504ea240a482b007788d5cd61c_2.json', 'event.event.bot_load_metadata_2987398237498798.json', 'event.event.many_load_2.json', 'event.event.slot_session_metadata_1.json', 'event.event.user_load_1.json', 'event.event.user_load_v228_1.json', 'github.events.load_page_1_duck.json', 'github.issues.load_page_5_duck.json', 'rasa_event_bot_metadata.json', 'rasa_event_bot_template.json', 'rasa_user_event.json'])\n",
      "('tests/normalize/cases/schemas', [], ['ethereum.schema.json', 'event.schema.json'])\n",
      "('tests/pipeline', ['cases'], ['__init__.py', 'conftest.py', 'test_arrow_sources.py', 'test_dlt_versions.py', 'test_pipeline.py', 'test_pipeline_file_format_resolver.py', 'test_pipeline_state.py', 'test_pipeline_trace.py', 'test_schema_updates.py', 'utils.py'])\n",
      "('tests/pipeline/cases', ['github_pipeline', 'state'], [])\n",
      "('tests/pipeline/cases/github_pipeline', ['.dlt'], ['__init__.py', 'github_extract.py', 'github_load.py', 'github_pipeline.py'])\n",
      "('tests/pipeline/cases/github_pipeline/.dlt', [], ['config.toml'])\n",
      "('tests/pipeline/cases/state', [], ['state.v1.json'])\n",
      "('tests/reflection', ['module_cases'], ['__init__.py', 'test_script_inspector.py'])\n",
      "('tests/reflection/module_cases', ['stripe_analytics'], ['__init__.py', 'all_imports.py', 'dlt_import_exception.py', 'executes_resource.py', 'import_as_type.py', 'no_pkg.py', 'raises.py', 'stripe_analytics_pipeline.py', 'syntax_error.py'])\n",
      "('tests/reflection/module_cases/stripe_analytics', [], ['__init__.py', 'helpers.py', 'stripe_analytics.py'])\n",
      "('tests/sources', ['helpers'], ['__init__.py'])\n",
      "('tests/sources/helpers', [], ['__init__.py', 'test_requests.py'])\n",
      "('tests/tools', [], ['__init__.py', 'clean_redshift.py', 'create_storages.py', 'early_dependencies.py'])\n"
     ]
    }
   ],
   "source": [
    "for thing in fs_gitpythonfs.walk(\"\", ref=\"HEAD\"): # , include_committed_date=False):\n",
    "    print(thing)"
   ]
  },
  {
   "cell_type": "code",
   "execution_count": 18,
   "metadata": {},
   "outputs": [
    {
     "data": {
      "text/plain": [
       "['file1', 'file2', 'inner/file3', 'inner/file4']"
      ]
     },
     "execution_count": 18,
     "metadata": {},
     "output_type": "execute_result"
    }
   ],
   "source": [
    "fs_gitpythonfs.find(\"\") # , include_committed_date=True)"
   ]
  },
  {
   "cell_type": "markdown",
   "metadata": {},
   "source": [
    "Git References (refs):\n",
    "\n",
    "You can specify a commit sha, tag or branch.  Default is HEAD."
   ]
  },
  {
   "cell_type": "code",
   "execution_count": 23,
   "metadata": {},
   "outputs": [
    {
     "data": {
      "text/plain": [
       "['file1']"
      ]
     },
     "execution_count": 23,
     "metadata": {},
     "output_type": "execute_result"
    }
   ],
   "source": [
    "fs_gitpythonfs.find(\n",
    "    \"\",\n",
    "    ref=\"thetag\" # comment out to use HEAD\n",
    "    )"
   ]
  },
  {
   "cell_type": "markdown",
   "metadata": {},
   "source": [
    "Multiple files:"
   ]
  },
  {
   "cell_type": "code",
   "execution_count": 16,
   "metadata": {},
   "outputs": [
    {
     "data": {
      "text/plain": [
       "4"
      ]
     },
     "execution_count": 16,
     "metadata": {},
     "output_type": "execute_result"
    }
   ],
   "source": [
    "files = fsspec.open_files(\"gitpythonfs:///tmp/repo_fixture:abranch@**/file*\")\n",
    "len(files)"
   ]
  },
  {
   "cell_type": "markdown",
   "metadata": {},
   "source": [
    "Some git contents are cached in the filesystem instance:"
   ]
  },
  {
   "cell_type": "code",
   "execution_count": 24,
   "metadata": {},
   "outputs": [
    {
     "data": {
      "text/plain": [
       "CacheInfo(hits=5, misses=2, maxsize=128, currsize=2)"
      ]
     },
     "execution_count": 24,
     "metadata": {},
     "output_type": "execute_result"
    }
   ],
   "source": [
    "fs_gitpythonfs._get_tree.cache_info()"
   ]
  },
  {
   "cell_type": "code",
   "execution_count": null,
   "metadata": {},
   "outputs": [],
   "source": [
    "fs_gitpythonfs.clear_git_caches()"
   ]
  },
  {
   "cell_type": "markdown",
   "metadata": {},
   "source": [
    "Note that fsspec itself caches entire filesystem instances, which can be overridden with `skip_instance_cache=True`"
   ]
  },
  {
   "cell_type": "code",
   "execution_count": 32,
   "metadata": {},
   "outputs": [
    {
     "data": {
      "text/plain": [
       "CacheInfo(hits=5, misses=2, maxsize=128, currsize=2)"
      ]
     },
     "execution_count": 32,
     "metadata": {},
     "output_type": "execute_result"
    }
   ],
   "source": [
    "path_2 = \"/tmp/repo_fixture\"\n",
    "fs_gitpythonfs_2 = fsspec.filesystem(\n",
    "    \"gitpythonfs\",\n",
    "    repo_path=path_2,\n",
    "    # ref=\"thetag\",\n",
    "    # skip_instance_cache=True\n",
    "    )\n",
    "\n",
    "fs_gitpythonfs_2._get_tree.cache_info()"
   ]
  },
  {
   "cell_type": "markdown",
   "metadata": {},
   "source": [
    "Using GitPython directly"
   ]
  },
  {
   "cell_type": "code",
   "execution_count": 5,
   "metadata": {},
   "outputs": [],
   "source": [
    "import git\n",
    "repo = git.Repo(\"/tmp/repo_fixture\")\n"
   ]
  },
  {
   "cell_type": "code",
   "execution_count": 16,
   "metadata": {},
   "outputs": [
    {
     "data": {
      "text/plain": [
       "<bound method Repo.tree of <git.repo.base.Repo '/tmp/repo_fixture/.git'>>"
      ]
     },
     "execution_count": 16,
     "metadata": {},
     "output_type": "execute_result"
    }
   ],
   "source": [
    "repo.tree"
   ]
  },
  {
   "cell_type": "code",
   "execution_count": 38,
   "metadata": {},
   "outputs": [
    {
     "data": {
      "text/plain": [
       "'dddfd37cf36ce53b21a12452f9817d9364738c11'"
      ]
     },
     "execution_count": 38,
     "metadata": {},
     "output_type": "execute_result"
    }
   ],
   "source": [
    "repo.commit(\"abranch\").hexsha"
   ]
  },
  {
   "cell_type": "markdown",
   "metadata": {},
   "source": [
    "Direct git cmd usage via GitPython\n",
    "See https://gitpython.readthedocs.io/en/stable/tutorial.html#using-git-directly"
   ]
  },
  {
   "cell_type": "code",
   "execution_count": 7,
   "metadata": {},
   "outputs": [
    {
     "data": {
      "text/plain": [
       "'commit dddfd37cf36ce53b21a12452f9817d9364738c11\\nAuthor: Your Name <you@example.com>\\nDate:   Tue Dec 26 11:23:55 2023 +1100\\n\\n    branch tip\\n\\ncommit f97366e414bbd87b014e1df743f2cb4c7e8e9318\\nAuthor: Your Name <you@example.com>\\nDate:   Tue Dec 26 11:23:55 2023 +1100\\n\\n    master tip\\n\\ncommit b618cd9aad9074b981178ca2f8c41b1f3d95c52f\\nAuthor: Your Name <you@example.com>\\nDate:   Tue Dec 26 11:23:55 2023 +1100\\n\\n    tagger\\n\\ncommit 9bfaaaf97aab0493e0d369cae65580d3c6d95060\\nAuthor: Your Name <you@example.com>\\nDate:   Tue Dec 26 11:23:55 2023 +1100\\n\\n    init'"
      ]
     },
     "execution_count": 7,
     "metadata": {},
     "output_type": "execute_result"
    }
   ],
   "source": [
    "git_exec = repo.git\n",
    "git_exec.log()"
   ]
  },
  {
   "cell_type": "code",
   "execution_count": 8,
   "metadata": {},
   "outputs": [
    {
     "data": {
      "text/plain": [
       "'commit dddfd37cf36ce53b21a12452f9817d9364738c11\\nAuthor: Your Name <you@example.com>\\nDate:   Tue Dec 26 11:23:55 2023 +1100\\n\\n    branch tip\\n\\n:000000 100644 0000000 cdca2c1 A\\tinner/file3\\n:000000 100644 0000000 488d13d A\\tinner/file4\\n\\ncommit f97366e414bbd87b014e1df743f2cb4c7e8e9318\\nAuthor: Your Name <you@example.com>\\nDate:   Tue Dec 26 11:23:55 2023 +1100\\n\\n    master tip\\n\\n:000000 100644 0000000 aff88ce A\\tfile2\\n\\ncommit b618cd9aad9074b981178ca2f8c41b1f3d95c52f\\nAuthor: Your Name <you@example.com>\\nDate:   Tue Dec 26 11:23:55 2023 +1100\\n\\n    tagger\\n\\n:100644 100644 1c37a15 a906852 M\\tfile1\\n\\ncommit 9bfaaaf97aab0493e0d369cae65580d3c6d95060\\nAuthor: Your Name <you@example.com>\\nDate:   Tue Dec 26 11:23:55 2023 +1100\\n\\n    init\\n\\n:000000 100644 0000000 1c37a15 A\\tfile1'"
      ]
     },
     "execution_count": 8,
     "metadata": {},
     "output_type": "execute_result"
    }
   ],
   "source": [
    "git_exec.whatchanged()"
   ]
  },
  {
   "cell_type": "markdown",
   "metadata": {},
   "source": [
    "Git formatting\n",
    "https://git-scm.com/docs/pretty-formats"
   ]
  },
  {
   "cell_type": "code",
   "execution_count": 11,
   "metadata": {},
   "outputs": [
    {
     "data": {
      "text/plain": [
       "'1703550235\\ndddfd37cf36ce53b21a12452f9817d9364738c11\\n\\n:000000 100644 0000000 cdca2c1 A\\tinner/file3\\n:000000 100644 0000000 488d13d A\\tinner/file4\\n1703550235\\nf97366e414bbd87b014e1df743f2cb4c7e8e9318\\n\\n:000000 100644 0000000 aff88ce A\\tfile2\\n1703550235\\nb618cd9aad9074b981178ca2f8c41b1f3d95c52f\\n\\n:100644 100644 1c37a15 a906852 M\\tfile1\\n1703550235\\n9bfaaaf97aab0493e0d369cae65580d3c6d95060\\n\\n:000000 100644 0000000 1c37a15 A\\tfile1'"
      ]
     },
     "execution_count": 11,
     "metadata": {},
     "output_type": "execute_result"
    }
   ],
   "source": [
    "git_exec.whatchanged(pretty=\"%at%n%H\")"
   ]
  },
  {
   "cell_type": "markdown",
   "metadata": {},
   "source": [
    "Getting reg/log based on reference"
   ]
  },
  {
   "cell_type": "code",
   "execution_count": 57,
   "metadata": {},
   "outputs": [
    {
     "data": {
      "text/plain": [
       "'1703550235\\n\\n:000000 100644 0000000 cdca2c1 A\\tinner/file3\\n:000000 100644 0000000 488d13d A\\tinner/file4\\n1703550235\\n\\n:000000 100644 0000000 aff88ce A\\tfile2\\n1703550235\\n\\n:100644 100644 1c37a15 a906852 M\\tfile1\\n1703550235\\n\\n:000000 100644 0000000 1c37a15 A\\tfile1'"
      ]
     },
     "execution_count": 57,
     "metadata": {},
     "output_type": "execute_result"
    }
   ],
   "source": [
    "import git\n",
    "\n",
    "def get_revisions_at_path():\n",
    "\n",
    "    repo = git.Repo(\"/tmp/repo_fixture\")\n",
    "    git_exec = repo.git\n",
    "\n",
    "    # hexsha = repo_4d5t6.commit(\"abranch\").hexsha\n",
    "    # ref = \"b618cd9aad9074b981178ca2f8c41b1f3d95c52f\"\n",
    "    ref = \"HEAD\"\n",
    "\n",
    "    # cases: root, directory, file\n",
    "    #  if directory add \"/*\"\n",
    "    #  assume/enforce path doesn't start with \"/\" as that causes error in git\n",
    "    path = \"\"\n",
    "    # git uses fnmatch(3) style matching\n",
    "    path_spec = \":(top)\" + path + \"*\"\n",
    "\n",
    "    out = git_exec.log(\n",
    "        ref,\n",
    "        path_spec,\n",
    "        raw=True\n",
    "        , no_merges=True\n",
    "        , pretty=\"%at\")\n",
    "    return out\n",
    "\n",
    "get_revisions_at_path()"
   ]
  },
  {
   "cell_type": "code",
   "execution_count": null,
   "metadata": {},
   "outputs": [],
   "source": [
    "import git"
   ]
  },
  {
   "cell_type": "markdown",
   "metadata": {},
   "source": [
    "# git\n",
    "\n",
    "existing implementation called [git](https://github.com/fsspec/filesystem_spec/blob/master/fsspec/implementations/git.py)"
   ]
  },
  {
   "cell_type": "code",
   "execution_count": 27,
   "metadata": {},
   "outputs": [],
   "source": [
    "fs_git = fsspec.filesystem(\"git\", path=\"/tmp/repo_fixture\")\n",
    "# \"git:///tmp/test_repo:head@inner\"\n"
   ]
  },
  {
   "cell_type": "code",
   "execution_count": 28,
   "metadata": {},
   "outputs": [
    {
     "data": {
      "text/plain": [
       "[{'type': 'file',\n",
       "  'name': 'file1',\n",
       "  'hex': 'a906852f929f123eedf16e685caafcf5179a572c',\n",
       "  'mode': '100644',\n",
       "  'size': 6},\n",
       " {'type': 'file',\n",
       "  'name': 'file2',\n",
       "  'hex': 'aff88cec66c6b9b9629ad0a288500b36c7e8479a',\n",
       "  'mode': '100644',\n",
       "  'size': 7}]"
      ]
     },
     "execution_count": 28,
     "metadata": {},
     "output_type": "execute_result"
    }
   ],
   "source": [
    "fs_git.ls(\"\")"
   ]
  },
  {
   "cell_type": "markdown",
   "metadata": {},
   "source": [
    "More complex url does not work for instantiation"
   ]
  },
  {
   "cell_type": "code",
   "execution_count": null,
   "metadata": {},
   "outputs": [
    {
     "ename": "ValueError",
     "evalue": "Protocol not known: git:///tmp/repo_fixture:abranch@inner/file3",
     "output_type": "error",
     "traceback": [
      "\u001b[0;31m---------------------------------------------------------------------------\u001b[0m\n",
      "\u001b[0;31mValueError\u001b[0m                                Traceback (most recent call last)\n",
      "Cell \u001b[0;32mIn[26], line 1\u001b[0m\n",
      "\u001b[0;32m----> 1\u001b[0m fs_git_at_branch \u001b[38;5;241m=\u001b[39m \u001b[43mfsspec\u001b[49m\u001b[38;5;241;43m.\u001b[39;49m\u001b[43mfilesystem\u001b[49m\u001b[43m(\u001b[49m\u001b[38;5;124;43m\"\u001b[39;49m\u001b[38;5;124;43mgit:///tmp/repo_fixture:abranch@inner/file3\u001b[39;49m\u001b[38;5;124;43m\"\u001b[39;49m\u001b[43m)\u001b[49m\n",
      "\n",
      "File \u001b[0;32m~/.cache/pypoetry/virtualenvs/dlt-verified-sources-U7wDHhBf-py3.10/lib/python3.10/site-packages/fsspec/registry.py:292\u001b[0m, in \u001b[0;36mfilesystem\u001b[0;34m(protocol, **storage_options)\u001b[0m\n",
      "\u001b[1;32m    285\u001b[0m \u001b[38;5;28;01mif\u001b[39;00m protocol \u001b[38;5;241m==\u001b[39m \u001b[38;5;124m\"\u001b[39m\u001b[38;5;124marrow_hdfs\u001b[39m\u001b[38;5;124m\"\u001b[39m:\n",
      "\u001b[1;32m    286\u001b[0m     warnings\u001b[38;5;241m.\u001b[39mwarn(\n",
      "\u001b[1;32m    287\u001b[0m         \u001b[38;5;124m\"\u001b[39m\u001b[38;5;124mThe \u001b[39m\u001b[38;5;124m'\u001b[39m\u001b[38;5;124marrow_hdfs\u001b[39m\u001b[38;5;124m'\u001b[39m\u001b[38;5;124m protocol has been deprecated and will be \u001b[39m\u001b[38;5;124m\"\u001b[39m\n",
      "\u001b[1;32m    288\u001b[0m         \u001b[38;5;124m\"\u001b[39m\u001b[38;5;124mremoved in the future. Specify it as \u001b[39m\u001b[38;5;124m'\u001b[39m\u001b[38;5;124mhdfs\u001b[39m\u001b[38;5;124m'\u001b[39m\u001b[38;5;124m.\u001b[39m\u001b[38;5;124m\"\u001b[39m,\n",
      "\u001b[1;32m    289\u001b[0m         \u001b[38;5;167;01mDeprecationWarning\u001b[39;00m,\n",
      "\u001b[1;32m    290\u001b[0m     )\n",
      "\u001b[0;32m--> 292\u001b[0m \u001b[38;5;28mcls\u001b[39m \u001b[38;5;241m=\u001b[39m \u001b[43mget_filesystem_class\u001b[49m\u001b[43m(\u001b[49m\u001b[43mprotocol\u001b[49m\u001b[43m)\u001b[49m\n",
      "\u001b[1;32m    293\u001b[0m \u001b[38;5;28;01mreturn\u001b[39;00m \u001b[38;5;28mcls\u001b[39m(\u001b[38;5;241m*\u001b[39m\u001b[38;5;241m*\u001b[39mstorage_options)\n",
      "\n",
      "File \u001b[0;32m~/.cache/pypoetry/virtualenvs/dlt-verified-sources-U7wDHhBf-py3.10/lib/python3.10/site-packages/fsspec/registry.py:235\u001b[0m, in \u001b[0;36mget_filesystem_class\u001b[0;34m(protocol)\u001b[0m\n",
      "\u001b[1;32m    233\u001b[0m \u001b[38;5;28;01mif\u001b[39;00m protocol \u001b[38;5;129;01mnot\u001b[39;00m \u001b[38;5;129;01min\u001b[39;00m registry:\n",
      "\u001b[1;32m    234\u001b[0m     \u001b[38;5;28;01mif\u001b[39;00m protocol \u001b[38;5;129;01mnot\u001b[39;00m \u001b[38;5;129;01min\u001b[39;00m known_implementations:\n",
      "\u001b[0;32m--> 235\u001b[0m         \u001b[38;5;28;01mraise\u001b[39;00m \u001b[38;5;167;01mValueError\u001b[39;00m(\u001b[38;5;124m\"\u001b[39m\u001b[38;5;124mProtocol not known: \u001b[39m\u001b[38;5;132;01m%s\u001b[39;00m\u001b[38;5;124m\"\u001b[39m \u001b[38;5;241m%\u001b[39m protocol)\n",
      "\u001b[1;32m    236\u001b[0m     bit \u001b[38;5;241m=\u001b[39m known_implementations[protocol]\n",
      "\u001b[1;32m    237\u001b[0m     \u001b[38;5;28;01mtry\u001b[39;00m:\n",
      "\n",
      "\u001b[0;31mValueError\u001b[0m: Protocol not known: git:///tmp/repo_fixture:abranch@inner/file3"
     ]
    }
   ],
   "source": [
    "fs_git_at_branch = fsspec.filesystem(\"git:///tmp/repo_fixture:abranch@inner/file3\")\n"
   ]
  },
  {
   "cell_type": "markdown",
   "metadata": {},
   "source": [
    "But it does work for \"direct\" methods like `open()`:"
   ]
  },
  {
   "cell_type": "code",
   "execution_count": null,
   "metadata": {},
   "outputs": [
    {
     "data": {
      "text/plain": [
       "b'data00'"
      ]
     },
     "metadata": {},
     "output_type": "display_data"
    }
   ],
   "source": [
    "with fsspec.open(\"git:///tmp/repo_fixture:file1\") as f:\n",
    "    bytes = f.read()\n",
    "    assert bytes == b\"data00\"\n",
    "\n",
    "bytes"
   ]
  },
  {
   "cell_type": "markdown",
   "metadata": {},
   "source": [
    "which also support git refs:"
   ]
  },
  {
   "cell_type": "code",
   "execution_count": null,
   "metadata": {},
   "outputs": [
    {
     "data": {
      "text/plain": [
       "b'data00'"
      ]
     },
     "metadata": {},
     "output_type": "display_data"
    }
   ],
   "source": [
    "with fsspec.open(\"git:///tmp/repo_fixture:master@file1\") as f:\n",
    "    bytes = f.read()\n",
    "    assert bytes == b\"data00\"\n",
    "\n",
    "bytes"
   ]
  },
  {
   "cell_type": "code",
   "execution_count": null,
   "metadata": {},
   "outputs": [
    {
     "data": {
      "text/plain": [
       "b'data00'"
      ]
     },
     "metadata": {},
     "output_type": "display_data"
    }
   ],
   "source": [
    "with fsspec.open(\"git:///tmp/repo_fixture:thetag@file1\") as f:\n",
    "    bytes = f.read()\n",
    "    assert bytes == b\"data00\"\n",
    "\n",
    "bytes"
   ]
  },
  {
   "cell_type": "code",
   "execution_count": null,
   "metadata": {},
   "outputs": [
    {
     "data": {
      "text/plain": [
       "b'data3'"
      ]
     },
     "metadata": {},
     "output_type": "display_data"
    }
   ],
   "source": [
    "with fsspec.open(\"git:///tmp/repo_fixture:abranch@inner/file3\") as f:\n",
    "    bytes = f.read()\n",
    "    assert bytes == b\"data3\"\n",
    "\n",
    "bytes"
   ]
  },
  {
   "cell_type": "markdown",
   "metadata": {},
   "source": [
    "With the first commit. \n",
    "\n",
    "Note: Will be different sha every time repo_fixture is recreated."
   ]
  },
  {
   "cell_type": "code",
   "execution_count": null,
   "metadata": {},
   "outputs": [
    {
     "data": {
      "text/plain": [
       "b'data0'"
      ]
     },
     "metadata": {},
     "output_type": "display_data"
    }
   ],
   "source": [
    "with fsspec.open(\"git:///tmp/repo_fixture:9bfaaaf97aab0493e0d369cae65580d3c6d95060@file1\") as f:\n",
    "    bytes = f.read()\n",
    "    assert bytes == b\"data0\"\n",
    "\n",
    "bytes"
   ]
  },
  {
   "cell_type": "code",
   "execution_count": null,
   "metadata": {},
   "outputs": [
    {
     "data": {
      "text/plain": [
       "b'data3'"
      ]
     },
     "metadata": {},
     "output_type": "display_data"
    }
   ],
   "source": [
    "with fsspec.open(\"git:///tmp/repo_fixture:abranch@inner/file3\") as f:\n",
    "    bytes = f.read()\n",
    "    assert bytes == b\"data3\"\n",
    "\n",
    "bytes"
   ]
  },
  {
   "cell_type": "markdown",
   "metadata": {},
   "source": [
    "Opening multiple files:"
   ]
  },
  {
   "cell_type": "code",
   "execution_count": null,
   "metadata": {},
   "outputs": [
    {
     "data": {
      "text/plain": [
       "<List of 4 OpenFile instances>"
      ]
     },
     "metadata": {},
     "output_type": "display_data"
    }
   ],
   "source": [
    "files = fsspec.open_files(\"git:///tmp/repo_fixture:abranch@**/file*\")\n",
    "files"
   ]
  },
  {
   "cell_type": "markdown",
   "metadata": {},
   "source": [
    "# file (local)\n",
    "\n",
    "Note these will return the .git folder and contents, which file:// protocol just sees as regular folders and files."
   ]
  },
  {
   "cell_type": "code",
   "execution_count": 31,
   "metadata": {},
   "outputs": [
    {
     "data": {
      "text/plain": [
       "['/tmp/repo_fixture/file2',\n",
       " '/tmp/repo_fixture/.git',\n",
       " '/tmp/repo_fixture/inner',\n",
       " '/tmp/repo_fixture/file1']"
      ]
     },
     "execution_count": 31,
     "metadata": {},
     "output_type": "execute_result"
    }
   ],
   "source": [
    "fs_file = fsspec.filesystem(\"file\")\n",
    "fs_file.ls(\"/tmp/repo_fixture\")"
   ]
  },
  {
   "cell_type": "markdown",
   "metadata": {},
   "source": [
    "find() gives list of files. It recruses subfolders"
   ]
  },
  {
   "cell_type": "code",
   "execution_count": 32,
   "metadata": {},
   "outputs": [
    {
     "data": {
      "text/plain": [
       "['/tmp/repo_fixture/.git/COMMIT_EDITMSG',\n",
       " '/tmp/repo_fixture/.git/HEAD',\n",
       " '/tmp/repo_fixture/.git/config',\n",
       " '/tmp/repo_fixture/.git/description',\n",
       " '/tmp/repo_fixture/.git/hooks/applypatch-msg.sample',\n",
       " '/tmp/repo_fixture/.git/hooks/commit-msg.sample',\n",
       " '/tmp/repo_fixture/.git/hooks/fsmonitor-watchman.sample',\n",
       " '/tmp/repo_fixture/.git/hooks/post-update.sample',\n",
       " '/tmp/repo_fixture/.git/hooks/pre-applypatch.sample',\n",
       " '/tmp/repo_fixture/.git/hooks/pre-commit.sample',\n",
       " '/tmp/repo_fixture/.git/hooks/pre-merge-commit.sample',\n",
       " '/tmp/repo_fixture/.git/hooks/pre-push.sample',\n",
       " '/tmp/repo_fixture/.git/hooks/pre-rebase.sample',\n",
       " '/tmp/repo_fixture/.git/hooks/pre-receive.sample',\n",
       " '/tmp/repo_fixture/.git/hooks/prepare-commit-msg.sample',\n",
       " '/tmp/repo_fixture/.git/hooks/push-to-checkout.sample',\n",
       " '/tmp/repo_fixture/.git/hooks/sendemail-validate.sample',\n",
       " '/tmp/repo_fixture/.git/hooks/update.sample',\n",
       " '/tmp/repo_fixture/.git/index',\n",
       " '/tmp/repo_fixture/.git/info/exclude',\n",
       " '/tmp/repo_fixture/.git/logs/HEAD',\n",
       " '/tmp/repo_fixture/.git/logs/refs/heads/abranch',\n",
       " '/tmp/repo_fixture/.git/logs/refs/heads/master',\n",
       " '/tmp/repo_fixture/.git/objects/09/c46bfab82020ac6336f787ae3f685781ae1a3b',\n",
       " '/tmp/repo_fixture/.git/objects/1c/37a156abf51aae05b7b970514e19b9689f42ac',\n",
       " '/tmp/repo_fixture/.git/objects/2a/f3a377ee06f86a955bd2a0d9f76cc707cff054',\n",
       " '/tmp/repo_fixture/.git/objects/48/8d13daaaf465b7aad0bb08b8d6bf4f8585fe0a',\n",
       " '/tmp/repo_fixture/.git/objects/51/39238ec364232bcb79141a5fb7f276b4f4001a',\n",
       " '/tmp/repo_fixture/.git/objects/74/c6d7652f98a85286d2d350bd4722211051f889',\n",
       " '/tmp/repo_fixture/.git/objects/94/0920d045f3e0a94b008a5e81a82ea265c19a3a',\n",
       " '/tmp/repo_fixture/.git/objects/9b/faaaf97aab0493e0d369cae65580d3c6d95060',\n",
       " '/tmp/repo_fixture/.git/objects/a9/06852f929f123eedf16e685caafcf5179a572c',\n",
       " '/tmp/repo_fixture/.git/objects/af/f88cec66c6b9b9629ad0a288500b36c7e8479a',\n",
       " '/tmp/repo_fixture/.git/objects/b6/18cd9aad9074b981178ca2f8c41b1f3d95c52f',\n",
       " '/tmp/repo_fixture/.git/objects/cd/ca2c1e94f3d30ed4e7822b2da91c59792899b4',\n",
       " '/tmp/repo_fixture/.git/objects/dd/dfd37cf36ce53b21a12452f9817d9364738c11',\n",
       " '/tmp/repo_fixture/.git/objects/f2/80d164d17fc78ff01c1df10ad27dafe6fcfc2d',\n",
       " '/tmp/repo_fixture/.git/objects/f9/7366e414bbd87b014e1df743f2cb4c7e8e9318',\n",
       " '/tmp/repo_fixture/.git/refs/heads/abranch',\n",
       " '/tmp/repo_fixture/.git/refs/heads/master',\n",
       " '/tmp/repo_fixture/.git/refs/tags/thetag',\n",
       " '/tmp/repo_fixture/file1',\n",
       " '/tmp/repo_fixture/file2',\n",
       " '/tmp/repo_fixture/inner/file3',\n",
       " '/tmp/repo_fixture/inner/file4']"
      ]
     },
     "execution_count": 32,
     "metadata": {},
     "output_type": "execute_result"
    }
   ],
   "source": [
    "fs_file.find(\"/tmp/repo_fixture\")"
   ]
  },
  {
   "cell_type": "markdown",
   "metadata": {},
   "source": [
    "find() uses walk()\n",
    "\n",
    "walk() gives folders, each with:\n",
    "- list of subfolders\n",
    "- list of files\n",
    "It recurses subfolders"
   ]
  },
  {
   "cell_type": "code",
   "execution_count": 34,
   "metadata": {},
   "outputs": [
    {
     "name": "stdout",
     "output_type": "stream",
     "text": [
      "('/tmp/repo_fixture', ['.git', 'inner'], ['file2', 'file1'])\n",
      "('/tmp/repo_fixture/.git', ['branches', 'hooks', 'objects', 'info', 'refs', 'logs'], ['index', 'HEAD', 'config', 'description', 'COMMIT_EDITMSG'])\n",
      "('/tmp/repo_fixture/.git/branches', [], [])\n",
      "('/tmp/repo_fixture/.git/hooks', [], ['fsmonitor-watchman.sample', 'push-to-checkout.sample', 'update.sample', 'pre-applypatch.sample', 'pre-push.sample', 'pre-receive.sample', 'sendemail-validate.sample', 'pre-merge-commit.sample', 'applypatch-msg.sample', 'pre-commit.sample', 'prepare-commit-msg.sample', 'commit-msg.sample', 'post-update.sample', 'pre-rebase.sample'])\n",
      "('/tmp/repo_fixture/.git/objects', ['1c', '51', '48', 'f2', 'pack', '2a', 'a9', '9b', 'cd', 'af', 'f9', '74', '09', '94', 'info', 'b6', 'dd'], [])\n",
      "('/tmp/repo_fixture/.git/objects/1c', [], ['37a156abf51aae05b7b970514e19b9689f42ac'])\n",
      "('/tmp/repo_fixture/.git/objects/51', [], ['39238ec364232bcb79141a5fb7f276b4f4001a'])\n",
      "('/tmp/repo_fixture/.git/objects/48', [], ['8d13daaaf465b7aad0bb08b8d6bf4f8585fe0a'])\n",
      "('/tmp/repo_fixture/.git/objects/f2', [], ['80d164d17fc78ff01c1df10ad27dafe6fcfc2d'])\n",
      "('/tmp/repo_fixture/.git/objects/pack', [], [])\n",
      "('/tmp/repo_fixture/.git/objects/2a', [], ['f3a377ee06f86a955bd2a0d9f76cc707cff054'])\n",
      "('/tmp/repo_fixture/.git/objects/a9', [], ['06852f929f123eedf16e685caafcf5179a572c'])\n",
      "('/tmp/repo_fixture/.git/objects/9b', [], ['faaaf97aab0493e0d369cae65580d3c6d95060'])\n",
      "('/tmp/repo_fixture/.git/objects/cd', [], ['ca2c1e94f3d30ed4e7822b2da91c59792899b4'])\n",
      "('/tmp/repo_fixture/.git/objects/af', [], ['f88cec66c6b9b9629ad0a288500b36c7e8479a'])\n",
      "('/tmp/repo_fixture/.git/objects/f9', [], ['7366e414bbd87b014e1df743f2cb4c7e8e9318'])\n",
      "('/tmp/repo_fixture/.git/objects/74', [], ['c6d7652f98a85286d2d350bd4722211051f889'])\n",
      "('/tmp/repo_fixture/.git/objects/09', [], ['c46bfab82020ac6336f787ae3f685781ae1a3b'])\n",
      "('/tmp/repo_fixture/.git/objects/94', [], ['0920d045f3e0a94b008a5e81a82ea265c19a3a'])\n",
      "('/tmp/repo_fixture/.git/objects/info', [], [])\n",
      "('/tmp/repo_fixture/.git/objects/b6', [], ['18cd9aad9074b981178ca2f8c41b1f3d95c52f'])\n",
      "('/tmp/repo_fixture/.git/objects/dd', [], ['dfd37cf36ce53b21a12452f9817d9364738c11'])\n",
      "('/tmp/repo_fixture/.git/info', [], ['exclude'])\n",
      "('/tmp/repo_fixture/.git/refs', ['tags', 'heads'], [])\n",
      "('/tmp/repo_fixture/.git/refs/tags', [], ['thetag'])\n",
      "('/tmp/repo_fixture/.git/refs/heads', [], ['master', 'abranch'])\n",
      "('/tmp/repo_fixture/.git/logs', ['refs'], ['HEAD'])\n",
      "('/tmp/repo_fixture/.git/logs/refs', ['heads'], [])\n",
      "('/tmp/repo_fixture/.git/logs/refs/heads', [], ['master', 'abranch'])\n",
      "('/tmp/repo_fixture/inner', [], ['file3', 'file4'])\n"
     ]
    }
   ],
   "source": [
    "for thing in fs_file.walk(\"/tmp/repo_fixture\"):\n",
    "    print(thing)"
   ]
  },
  {
   "cell_type": "markdown",
   "metadata": {},
   "source": [
    "and walk uses ls()\n",
    "\n",
    "ls() lists files and directories at the specified level. It does not recurse."
   ]
  },
  {
   "cell_type": "code",
   "execution_count": 35,
   "metadata": {},
   "outputs": [
    {
     "data": {
      "text/plain": [
       "['/tmp/repo_fixture/file2',\n",
       " '/tmp/repo_fixture/.git',\n",
       " '/tmp/repo_fixture/inner',\n",
       " '/tmp/repo_fixture/file1']"
      ]
     },
     "execution_count": 35,
     "metadata": {},
     "output_type": "execute_result"
    }
   ],
   "source": [
    "fs_file.ls(\"/tmp/repo_fixture\")"
   ]
  },
  {
   "cell_type": "markdown",
   "metadata": {},
   "source": [
    "ls() can also give object details"
   ]
  },
  {
   "cell_type": "code",
   "execution_count": 36,
   "metadata": {},
   "outputs": [
    {
     "data": {
      "text/plain": [
       "[{'name': '/tmp/repo_fixture/file2',\n",
       "  'size': 7,\n",
       "  'type': 'file',\n",
       "  'created': 1703550235.1300154,\n",
       "  'islink': False,\n",
       "  'mode': 33188,\n",
       "  'uid': 1000,\n",
       "  'gid': 1000,\n",
       "  'mtime': 1703550235.1300154,\n",
       "  'ino': 386288,\n",
       "  'nlink': 1},\n",
       " {'name': '/tmp/repo_fixture/.git',\n",
       "  'size': 4096,\n",
       "  'type': 'directory',\n",
       "  'created': 1703550235.1600153,\n",
       "  'islink': False,\n",
       "  'mode': 16877,\n",
       "  'uid': 1000,\n",
       "  'gid': 1000,\n",
       "  'mtime': 1703550235.1600153,\n",
       "  'ino': 386236,\n",
       "  'nlink': 8},\n",
       " {'name': '/tmp/repo_fixture/inner',\n",
       "  'size': 4096,\n",
       "  'type': 'directory',\n",
       "  'created': 1703550235.1500154,\n",
       "  'islink': False,\n",
       "  'mode': 16877,\n",
       "  'uid': 1000,\n",
       "  'gid': 1000,\n",
       "  'mtime': 1703550235.1500154,\n",
       "  'ino': 386259,\n",
       "  'nlink': 2},\n",
       " {'name': '/tmp/repo_fixture/file1',\n",
       "  'size': 6,\n",
       "  'type': 'file',\n",
       "  'created': 1703550235.1300154,\n",
       "  'islink': False,\n",
       "  'mode': 33188,\n",
       "  'uid': 1000,\n",
       "  'gid': 1000,\n",
       "  'mtime': 1703550235.1300154,\n",
       "  'ino': 386264,\n",
       "  'nlink': 1}]"
      ]
     },
     "execution_count": 36,
     "metadata": {},
     "output_type": "execute_result"
    }
   ],
   "source": [
    "fs_file.ls(\"/tmp/repo_fixture\", detail=True)"
   ]
  }
 ],
 "metadata": {
  "kernelspec": {
   "display_name": "dlt-verified-sources-U7wDHhBf-py3.10",
   "language": "python",
   "name": "python3"
  },
  "language_info": {
   "codemirror_mode": {
    "name": "ipython",
    "version": 3
   },
   "file_extension": ".py",
   "mimetype": "text/x-python",
   "name": "python",
   "nbconvert_exporter": "python",
   "pygments_lexer": "ipython3",
   "version": "3.10.13"
  }
 },
 "nbformat": 4,
 "nbformat_minor": 2
}
